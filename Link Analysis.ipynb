{
 "cells": [
  {
   "cell_type": "markdown",
   "metadata": {},
   "source": [
    "# Satellite Link Analysis tool"
   ]
  },
  {
   "cell_type": "code",
   "execution_count": 1,
   "metadata": {
    "collapsed": true
   },
   "outputs": [],
   "source": [
    "import math\n",
    "import numpy as np"
   ]
  },
  {
   "cell_type": "markdown",
   "metadata": {},
   "source": [
    "## Let's define a few constants"
   ]
  },
  {
   "cell_type": "code",
   "execution_count": 97,
   "metadata": {
    "collapsed": true
   },
   "outputs": [],
   "source": [
    "EARTH_RADIUS = 6378 # km\n",
    "GEO_RADIUS = 42174 # km, distance between geostationary satellite and center of the EARTH\n",
    "GEO_ALTITUDE = GEO_RADIUS - EARTH_RADIUS"
   ]
  },
  {
   "cell_type": "markdown",
   "metadata": {},
   "source": [
    "## Let's define utility funtions"
   ]
  },
  {
   "cell_type": "code",
   "execution_count": 98,
   "metadata": {
    "collapsed": true
   },
   "outputs": [],
   "source": [
    "'''Let's define utility functions'''\n",
    "\n",
    "def to_deg(rad):\n",
    "    return rad*180/math.pi\n",
    "\n",
    "def to_rad(deg):\n",
    "    return deg*math.pi/180\n",
    "\n",
    "def to_dB(decimal):\n",
    "    return 10*math.log10(decimal)\n",
    "\n",
    "def to_decimal(dB):\n",
    "    return 10**(dB/10)\n",
    "\n",
    "def cos_deg(deg):\n",
    "    return math.cos(to_rad(deg))\n",
    "\n",
    "def sin_deg(deg):\n",
    "    return math.sin(to_rad(deg))"
   ]
  },
  {
   "cell_type": "markdown",
   "metadata": {},
   "source": [
    "## Now let's define getter functions for single quantities"
   ]
  },
  {
   "cell_type": "code",
   "execution_count": 99,
   "metadata": {
    "collapsed": true
   },
   "outputs": [],
   "source": [
    "def get_alpha_beta(elevation_angle):\n",
    "    \"\"\"\n",
    "    Compute the angle between the (satellite-earth center) line and the (satellite-earth surface) line.\n",
    "    The latter has an elevation_angle given with respect to the earth tangent.\n",
    "    All angles abre computed in degrees\n",
    "    \"\"\"\n",
    "    \n",
    "    alpha = to_deg(math.asin(EARTH_RADIUS * sin_deg(90. + elevation_angle) / GEO_RADIUS))\n",
    "    beta = 180. - alpha - 90. - elevation_angle\n",
    "    return alpha, beta\n",
    "    "
   ]
  },
  {
   "cell_type": "code",
   "execution_count": 100,
   "metadata": {
    "collapsed": true
   },
   "outputs": [],
   "source": [
    "def get_range(elevation_angle, sat_altitude=GEO_ALTITUDE):\n",
    "    '''\n",
    "    Computes the range (km) of a satellite with a given elevation angle.\n",
    "    It is possible to define a sat_altitude in case the satellite is not geostationary'''\n",
    "    \n",
    "    alpha, beta = get_alpha_beta(elevation_angle)\n",
    "    return math.sqrt( (sat_altitude+EARTH_RADIUS)**2 + EARTH_RADIUS**2 - 2*EARTH_RADIUS*(EARTH_RADIUS+sat_altitude) * cos_deg(180-(90+elevation_angle)-alpha)) "
   ]
  },
  {
   "cell_type": "code",
   "execution_count": 101,
   "metadata": {
    "collapsed": true
   },
   "outputs": [],
   "source": [
    "def get_covered_area(elevation_angle, sat_altitude=GEO_ALTITUDE):\n",
    "    \n",
    "    '''\n",
    "    Computes the approximation of the covered area (km^2)of a satellite with a given elevation angle\n",
    "    '''\n",
    "    \n",
    "    alpha, beta = get_alpha_beta(elevation_angle)\n",
    "    \n",
    "    if (alpha < 10.):\n",
    "        the_range = get_range(elevation_angle, sat_altitude)\n",
    "        r = sin_deg(alpha) * the_range\n",
    "        return math.pi*r*r\n",
    "    \n",
    "    raise ValueError(\"The angle Theta/Alpha is over 10° so the approximation made by this function will be incorrect.\")"
   ]
  },
  {
   "cell_type": "code",
   "execution_count": 102,
   "metadata": {
    "collapsed": false
   },
   "outputs": [],
   "source": [
    "def get_orbit_period(orbit_radius):\n",
    "    '''\n",
    "    Combutes the orbital period of a satellite in hours'''\n",
    "    result = 24.*math.pow(orbit_radius/GEO_RADIUS, 1.5)\n",
    "    pretty_print(result)\n",
    "    return result\n",
    "\n",
    "def pretty_print(hour):\n",
    "    h = int(np.floor(hour))\n",
    "    frac_h = hour-h\n",
    "    \n",
    "    minutes = frac_h * 60\n",
    "    m = int(np.floor(minutes))\n",
    "    frac_m = minutes - m\n",
    "    \n",
    "    seconds = frac_m * 60\n",
    "    s = int(np.floor(seconds))\n",
    "    \n",
    "    h_str = \"hours,\" if h > 1 else \"hour,\"\n",
    "    m_str = \"minutes,\" if m > 1 else \"minute,\"\n",
    "    s_str = \"seconds.\" if s > 1 else \"second.\"\n",
    "    \n",
    "    print(\"Duration :\", h, h_str, m, m_str, s, s_str)"
   ]
  },
  {
   "cell_type": "code",
   "execution_count": 103,
   "metadata": {
    "collapsed": true
   },
   "outputs": [],
   "source": [
    "def get_path_loss(wave_len, the_range, dB=True):\n",
    "    '''By default the result is in dB'''\n",
    "    \n",
    "    result = (wave_len/(4.*math.pi*the_range))**2\n",
    "    \n",
    "    if not dB:\n",
    "        return result\n",
    "    \n",
    "    return to_dB(result)\n",
    "    "
   ]
  },
  {
   "cell_type": "code",
   "execution_count": 104,
   "metadata": {
    "collapsed": true
   },
   "outputs": [],
   "source": [
    "def get_anten_area(dish_diameter):\n",
    "    \"\"\"Computes the area of a dish antenna given a specified diameter.\n",
    "    Parameter and output are in meters\"\"\"\n",
    "    return math.pi*dish_diameter*dish_diameter/4."
   ]
  },
  {
   "cell_type": "code",
   "execution_count": 105,
   "metadata": {
    "collapsed": true
   },
   "outputs": [],
   "source": [
    "def get_lambda(transmit_freq, c=3.0*pow(10,8)):\n",
    "    \"\"\"Computes the wavelength of a wave with given frequency\"\"\"\n",
    "    return c/transmit_freq"
   ]
  },
  {
   "cell_type": "code",
   "execution_count": 106,
   "metadata": {
    "collapsed": true
   },
   "outputs": [],
   "source": [
    "def get_gain_directive(anten_area, wave_len, dB=True):\n",
    "    \"\"\"Computes the gain of a directive antenna with given area and knowing the wave length\n",
    "    of the incoming signal.\n",
    "    By default the output is in dBi\"\"\"\n",
    "    \n",
    "    result = 4*math.pi*anten_area/(wave_len*wave_len)\n",
    "    \n",
    "    if not dB:\n",
    "        return result\n",
    "    \n",
    "    return to_dB(result)"
   ]
  },
  {
   "cell_type": "code",
   "execution_count": 107,
   "metadata": {
    "collapsed": true
   },
   "outputs": [],
   "source": [
    "def get_gain_parabolic(diameter, wavelen, epsilon=0.55, dB= True):\n",
    "    \"\"\"Computes the gain of a parabolic dish antenna with given diameter\n",
    "    and knowing the wave length of the incoming signal.\n",
    "    By default the output is in dBi\"\"\"\n",
    "    \n",
    "    result = epsilon * (math.pi*diameter/wavelen)**2\n",
    "    \n",
    "    if not dB:\n",
    "        return result\n",
    "    \n",
    "    return to_dB(result)\n",
    "    "
   ]
  },
  {
   "cell_type": "code",
   "execution_count": 108,
   "metadata": {
    "collapsed": false
   },
   "outputs": [],
   "source": [
    "def get_beamwidth_parabolic(diameter, wavelen, epsilon=0.55, deg=True):\n",
    "    \"\"\"Computes the beamwidth of a parabolic dish antenna with a given diameter\n",
    "    and given the signal wavelength.\n",
    "    By default the output is in degrees\"\"\"\n",
    "    result = wavelen/(diameter*math.sqrt(epsilon)) \n",
    "    \n",
    "    if not deg:\n",
    "        return result\n",
    "    \n",
    "    return to_deg(result)"
   ]
  },
  {
   "cell_type": "code",
   "execution_count": 115,
   "metadata": {
    "collapsed": true
   },
   "outputs": [],
   "source": [
    "def get_EIRP(PT, GT, in_dB=True):\n",
    "    \"\"\"Computes the effective isotropic radiated power of a transmitter,\n",
    "    given its power PT and gain GT. \n",
    "    If in_dB== True then PT and GT must be both in dB system, and the output is in dBW.\n",
    "    Else, PT and GT must be in decimal and the output is in W\"\"\"\n",
    "    \n",
    "    if in_dB:\n",
    "        return PT + GT\n",
    "    \n",
    "    return PT*GT"
   ]
  },
  {
   "cell_type": "code",
   "execution_count": 116,
   "metadata": {
    "collapsed": true
   },
   "outputs": [],
   "source": [
    "def get_Aeff(wavelen, isoG=1.):\n",
    "    \"\"\"Computes the effective area with the relative gain to an isotropic radiator\"\"\"\n",
    "    return wavelen*wavelen/(4*math.pi)"
   ]
  },
  {
   "cell_type": "code",
   "execution_count": 117,
   "metadata": {
    "collapsed": true
   },
   "outputs": [],
   "source": [
    "def get_flux_density(PR, wavelen, isoG=1., in_dB=True):\n",
    "    \"\"\"Computes the flux density with the relative gain to an isotropic radiator.\n",
    "    If in_dB == True then PR must be in dBW and the output is in dBW/m^2.\n",
    "    Else, PR must be in W and the output is in W/m^2 \"\"\"\n",
    "    \n",
    "    Aeff = get_Aeff(wavelen, isoG=isoG)\n",
    "    \n",
    "    if not in_dB:\n",
    "        return PR/Aeff\n",
    "    \n",
    "    return PR - to_dB(Aeff)"
   ]
  },
  {
   "cell_type": "code",
   "execution_count": 118,
   "metadata": {
    "collapsed": false
   },
   "outputs": [],
   "source": [
    "def get_received_power(PT, GT, GR, wavelen, the_range, in_dB=True):\n",
    "    \"\"\"Computes the received power for an antenna.\n",
    "    If input_dB==True then *NOTHING* must be in dB in the parameters and the output is in W\n",
    "    Else, PT, GT, GR must be in db and the output is in dBW\n",
    "    The output has the same unit as PT in argument.\"\"\"\n",
    "    \n",
    "    const = (wavelen/(a*math.pi*the_range))**2\n",
    "    if not in_dB:\n",
    "        return PT*GT*GR*const # W\n",
    "    \n",
    "    return PT + GT + GR + to_dB(const) # dBW\n",
    "    "
   ]
  },
  {
   "cell_type": "code",
   "execution_count": 121,
   "metadata": {
    "collapsed": true
   },
   "outputs": [],
   "source": [
    "def get_C_over_N_alldB(PT, GT, GR,  B, Lp, T= 500, LA=0., LR=0., LM=0.):\n",
    "    \"\"\"Computes the ratio C/N.\n",
    "    Every parameter must be in dB system\"\"\"\n",
    "    \n",
    "    # Boltzmann\n",
    "    k = to_dB(1.38*math.pow(10,-23))\n",
    "    \n",
    "    return PT+GT+GR+Lp+LA+LR+LM-k-T-B"
   ]
  },
  {
   "cell_type": "markdown",
   "metadata": {},
   "source": [
    "## Let's define more complete functions to analyze the link"
   ]
  },
  {
   "cell_type": "code",
   "execution_count": 126,
   "metadata": {
    "collapsed": true
   },
   "outputs": [],
   "source": [
    "def analysisI(freq,\n",
    "              trans_diam,\n",
    "              PT,\n",
    "              rcv_diam,\n",
    "              bandw,\n",
    "              the_range,\n",
    "              nois_temp,\n",
    "              loss_atmos,\n",
    "              loss_rain,\n",
    "              loss_misc,\n",
    "              epsilon = 0.55\n",
    "             ):\n",
    "    \"\"\"Here the only parameters in dB are the losses.\n",
    "    Note also that all distance measures must be in meters\"\"\"\n",
    "    \n",
    "    # First convert all we need to dB\n",
    "    nois_temp_dB = to_dB(nois_temp) #dBK\n",
    "    bandw_dB = to_dB(bandw) #dBHz\n",
    "    PT_dB = to_dB(PT) #dBW\n",
    "    \n",
    "    wavelen = get_lambda(freq)\n",
    "    print(\"\\nLambda =\", wavelen, \" m\")\n",
    "    \n",
    "    Lp = get_path_loss(wavelen, the_range) #dB\n",
    "    print(\"\\nPath loss =\", Lp, \"dB\")\n",
    "    \n",
    "    GT = get_gain_parabolic(trans_diam, wavelen, epsilon=epsilon) #dB\n",
    "    print(\"\\nTransmitter gain GT =\", GT, \"dBi\")\n",
    "    \n",
    "    GR = get_gain_parabolic(rcv_diam, wavelen, epsilon=epsilon) #dB\n",
    "    print(\"\\nReceiver gain GR =\", GR, \"dBi\")\n",
    "    \n",
    "    EIRP = get_EIRP(PT_dB, GT)\n",
    "    print(\"\\nEIRP =\", EIRP, \"dbW\")\n",
    "    \n",
    "    C_N = get_C_over_N_alldB(PT_dB, GT, GR, bandw_dB, Lp, T=nois_temp_dB,\n",
    "                             LA=loss_atmos, LR=loss_rain, LM=loss_misc)\n",
    "    \n",
    "    print(\"\\nC/N =\", C_N, \"db\")\n",
    "    \n",
    "    \n",
    "    return 0"
   ]
  },
  {
   "cell_type": "code",
   "execution_count": 130,
   "metadata": {
    "collapsed": false
   },
   "outputs": [
    {
     "name": "stdout",
     "output_type": "stream",
     "text": [
      "\n",
      "Lambda = 0.15  m\n",
      "\n",
      "Path loss = -190.50357192588757 dB\n",
      "\n",
      "Transmitter gain GT = 17.804199254431868 dBi\n",
      "\n",
      "Receiver gain GR = 23.824799167711493 dBi\n",
      "\n",
      "EIRP = 47.804199254431865 dbW\n",
      "\n",
      "C/N = 34.73693558888323 db\n"
     ]
    },
    {
     "data": {
      "text/plain": [
       "0"
      ]
     },
     "execution_count": 130,
     "metadata": {},
     "output_type": "execute_result"
    }
   ],
   "source": [
    "analysisI(2.*pow(10,9), 0.5, 1000, 1.0, pow(10,6), 40000*1000, 500, 3, 3, 6)"
   ]
  },
  {
   "cell_type": "code",
   "execution_count": null,
   "metadata": {
    "collapsed": true
   },
   "outputs": [],
   "source": []
  }
 ],
 "metadata": {
  "anaconda-cloud": {},
  "kernelspec": {
   "display_name": "Python [Anaconda3]",
   "language": "python",
   "name": "Python [Anaconda3]"
  },
  "language_info": {
   "codemirror_mode": {
    "name": "ipython",
    "version": 3
   },
   "file_extension": ".py",
   "mimetype": "text/x-python",
   "name": "python",
   "nbconvert_exporter": "python",
   "pygments_lexer": "ipython3",
   "version": "3.5.6"
  }
 },
 "nbformat": 4,
 "nbformat_minor": 0
}
