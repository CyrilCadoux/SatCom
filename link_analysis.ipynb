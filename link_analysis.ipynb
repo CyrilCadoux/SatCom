{
 "cells": [
  {
   "cell_type": "markdown",
   "metadata": {},
   "source": [
    "# Satellite Link Analysis tool"
   ]
  },
  {
   "cell_type": "code",
   "execution_count": 1,
   "metadata": {
    "collapsed": true
   },
   "outputs": [],
   "source": [
    "import math\n",
    "import numpy as np"
   ]
  },
  {
   "cell_type": "markdown",
   "metadata": {},
   "source": [
    "## Let's define a few constants"
   ]
  },
  {
   "cell_type": "code",
   "execution_count": 2,
   "metadata": {
    "collapsed": true
   },
   "outputs": [],
   "source": [
    "EARTH_RADIUS = 6378*1000 # m\n",
    "GEO_RADIUS = 42174*1000 # m, distance between geostationary satellite and center of the EARTH\n",
    "GEO_ALTITUDE = GEO_RADIUS - EARTH_RADIUS"
   ]
  },
  {
   "cell_type": "markdown",
   "metadata": {},
   "source": [
    "## Let's define utility funtions"
   ]
  },
  {
   "cell_type": "code",
   "execution_count": 3,
   "metadata": {
    "collapsed": true
   },
   "outputs": [],
   "source": [
    "'''Let's define utility functions'''\n",
    "\n",
    "def to_deg(rad):\n",
    "    return rad*180/math.pi\n",
    "\n",
    "def to_rad(deg):\n",
    "    return deg*math.pi/180\n",
    "\n",
    "def to_dB(decimal):\n",
    "    return 10*math.log10(decimal)\n",
    "\n",
    "def to_decimal(dB):\n",
    "    return 10**(dB/10)\n",
    "\n",
    "def cos_deg(deg):\n",
    "    return math.cos(to_rad(deg))\n",
    "\n",
    "def sin_deg(deg):\n",
    "    return math.sin(to_rad(deg))"
   ]
  },
  {
   "cell_type": "markdown",
   "metadata": {},
   "source": [
    "## Now let's define getter functions for single quantities"
   ]
  },
  {
   "cell_type": "code",
   "execution_count": 4,
   "metadata": {
    "collapsed": true
   },
   "outputs": [],
   "source": [
    "def get_alpha_beta(elevation_angle):\n",
    "    \"\"\"\n",
    "    Compute the angle between the (satellite-earth center) line and the (satellite-earth surface) line.\n",
    "    The latter has an elevation_angle given with respect to the earth tangent.\n",
    "    All angles abre computed in degrees\n",
    "    \"\"\"\n",
    "    \n",
    "    alpha = to_deg(math.asin(EARTH_RADIUS * sin_deg(90. + elevation_angle) / GEO_RADIUS))\n",
    "    beta = 180. - alpha - 90. - elevation_angle\n",
    "    return alpha, beta\n",
    "    "
   ]
  },
  {
   "cell_type": "code",
   "execution_count": 5,
   "metadata": {
    "collapsed": true
   },
   "outputs": [],
   "source": [
    "def get_range(elevation_angle, sat_altitude=GEO_ALTITUDE):\n",
    "    '''\n",
    "    Computes the range (km) of a satellite with a given elevation angle.\n",
    "    It is possible to define a sat_altitude in case the satellite is not geostationary'''\n",
    "    \n",
    "    alpha, beta = get_alpha_beta(elevation_angle)\n",
    "    return math.sqrt( (sat_altitude+EARTH_RADIUS)**2 + EARTH_RADIUS**2 - 2*EARTH_RADIUS*(EARTH_RADIUS+sat_altitude) * cos_deg(180-(90+elevation_angle)-alpha)) "
   ]
  },
  {
   "cell_type": "code",
   "execution_count": 6,
   "metadata": {
    "collapsed": true
   },
   "outputs": [],
   "source": [
    "def get_covered_area(elevation_angle, sat_altitude=GEO_ALTITUDE):\n",
    "    \n",
    "    '''\n",
    "    Computes the approximation of the covered area (km^2)of a satellite with a given elevation angle\n",
    "    '''\n",
    "    \n",
    "    alpha, beta = get_alpha_beta(elevation_angle)\n",
    "    \n",
    "    if (alpha < 10.):\n",
    "        the_range = get_range(elevation_angle, sat_altitude)\n",
    "        r = sin_deg(alpha) * the_range\n",
    "        return math.pi*r*r\n",
    "    \n",
    "    raise ValueError(\"The angle Theta/Alpha is over 10° so the approximation made by this function will be incorrect.\")"
   ]
  },
  {
   "cell_type": "code",
   "execution_count": 7,
   "metadata": {
    "collapsed": false
   },
   "outputs": [],
   "source": [
    "def get_orbit_period(orbit_radius):\n",
    "    '''\n",
    "    Combutes the orbital period of a satellite in hours'''\n",
    "    result = 24.*math.pow(orbit_radius/GEO_RADIUS, 1.5)\n",
    "    pretty_print(result)\n",
    "    return result\n",
    "\n",
    "def pretty_print(hour):\n",
    "    h = int(np.floor(hour))\n",
    "    frac_h = hour-h\n",
    "    \n",
    "    minutes = frac_h * 60\n",
    "    m = int(np.floor(minutes))\n",
    "    frac_m = minutes - m\n",
    "    \n",
    "    seconds = frac_m * 60\n",
    "    s = int(np.floor(seconds))\n",
    "    \n",
    "    h_str = \"hours,\" if h > 1 else \"hour,\"\n",
    "    m_str = \"minutes,\" if m > 1 else \"minute,\"\n",
    "    s_str = \"seconds.\" if s > 1 else \"second.\"\n",
    "    \n",
    "    print(\"Duration :\", h, h_str, m, m_str, s, s_str)"
   ]
  },
  {
   "cell_type": "code",
   "execution_count": 8,
   "metadata": {
    "collapsed": true
   },
   "outputs": [],
   "source": [
    "def get_path_loss(wave_len, the_range, dB=True):\n",
    "    '''By default the result is in dB'''\n",
    "    \n",
    "    result = (wave_len/(4.*math.pi*the_range))**2\n",
    "    \n",
    "    if not dB:\n",
    "        return result\n",
    "    \n",
    "    return to_dB(result)\n",
    "    "
   ]
  },
  {
   "cell_type": "code",
   "execution_count": 9,
   "metadata": {
    "collapsed": true
   },
   "outputs": [],
   "source": [
    "def get_anten_area(dish_diameter):\n",
    "    \"\"\"Computes the area of a dish antenna given a specified diameter.\n",
    "    Parameter and output are in meters\"\"\"\n",
    "    return math.pi*dish_diameter*dish_diameter/4."
   ]
  },
  {
   "cell_type": "code",
   "execution_count": 10,
   "metadata": {
    "collapsed": true
   },
   "outputs": [],
   "source": [
    "def get_lambda(transmit_freq, c=3.0*pow(10,8)):\n",
    "    \"\"\"Computes the wavelength of a wave with given frequency\"\"\"\n",
    "    return c/transmit_freq"
   ]
  },
  {
   "cell_type": "code",
   "execution_count": 11,
   "metadata": {
    "collapsed": true
   },
   "outputs": [],
   "source": [
    "def get_gain_directive(anten_area, wave_len, dB=True):\n",
    "    \"\"\"Computes the gain of a directive antenna with given area and knowing the wave length\n",
    "    of the incoming signal.\n",
    "    By default the output is in dBi\"\"\"\n",
    "    \n",
    "    result = 4*math.pi*anten_area/(wave_len*wave_len)\n",
    "    \n",
    "    if not dB:\n",
    "        return result\n",
    "    \n",
    "    return to_dB(result)"
   ]
  },
  {
   "cell_type": "code",
   "execution_count": 12,
   "metadata": {
    "collapsed": true
   },
   "outputs": [],
   "source": [
    "def get_gain_parabolic(diameter, wavelen, epsilon=0.55, dB= True):\n",
    "    \"\"\"Computes the gain of a parabolic dish antenna with given diameter\n",
    "    and knowing the wave length of the incoming signal.\n",
    "    By default the output is in dBi\"\"\"\n",
    "    \n",
    "    result = epsilon * (math.pi*diameter/wavelen)**2\n",
    "    \n",
    "    if not dB:\n",
    "        return result\n",
    "    \n",
    "    return to_dB(result)\n",
    "    "
   ]
  },
  {
   "cell_type": "code",
   "execution_count": 13,
   "metadata": {
    "collapsed": false
   },
   "outputs": [],
   "source": [
    "def get_beamwidth_parabolic(diameter, wavelen, epsilon=0.55, deg=True):\n",
    "    \"\"\"Computes the beamwidth of a parabolic dish antenna with a given diameter\n",
    "    and given the signal wavelength.\n",
    "    By default the output is in degrees\"\"\"\n",
    "    result = wavelen/(diameter*math.sqrt(epsilon)) \n",
    "    \n",
    "    if not deg:\n",
    "        return result\n",
    "    \n",
    "    return to_deg(result)"
   ]
  },
  {
   "cell_type": "code",
   "execution_count": 14,
   "metadata": {
    "collapsed": true
   },
   "outputs": [],
   "source": [
    "def get_EIRP(PT,GT, in_dB=True):\n",
    "    \"\"\"Computes the effective isotropic radiated power of a transmitter,\n",
    "    given its power PT and gain GT. \n",
    "    If in_dB== True then PT and GT must be both in dB system, and the output is in dBW.\n",
    "    Else, PT and GT must be in decimal and the output is in W\"\"\"\n",
    "    \n",
    "    if in_dB:\n",
    "        return PT + GT\n",
    "    \n",
    "    return PT*GT"
   ]
  },
  {
   "cell_type": "code",
   "execution_count": 15,
   "metadata": {
    "collapsed": true
   },
   "outputs": [],
   "source": [
    "def get_Aeff(wavelen, isoG=1.):\n",
    "    \"\"\"Computes the effective area with the relative gain to an isotropic radiator\"\"\"\n",
    "    return wavelen*wavelen/(4*math.pi)"
   ]
  },
  {
   "cell_type": "code",
   "execution_count": 16,
   "metadata": {
    "collapsed": true
   },
   "outputs": [],
   "source": [
    "def get_flux_density(PR, wavelen, isoG=1., in_dB=True):\n",
    "    \"\"\"Computes the flux density with the relative gain to an isotropic radiator.\n",
    "    If in_dB == True then PR must be in dBW and the output is in dBW/m^2.\n",
    "    Else, PR must be in W and the output is in W/m^2 \"\"\"\n",
    "    \n",
    "    Aeff = get_Aeff(wavelen, isoG=isoG)\n",
    "    \n",
    "    if not in_dB:\n",
    "        return PR/Aeff\n",
    "    \n",
    "    return PR - to_dB(Aeff)"
   ]
  },
  {
   "cell_type": "code",
   "execution_count": 17,
   "metadata": {
    "collapsed": false
   },
   "outputs": [],
   "source": [
    "def get_received_power(PT, GT, GR, wavelen, the_range, in_dB=True):\n",
    "    \"\"\"Computes the received power for an antenna.\n",
    "    If in_dB==True then PT, GT, GR must be in db and the output is in dBW\n",
    "    Else, PT, GT, GR MUST NOT be in dB and the output is in W\n",
    "    \"\"\"\n",
    "    \n",
    "    const = (wavelen/(4*math.pi*the_range))**2\n",
    "    \n",
    "    if not in_dB:\n",
    "        return PT*GT*GR*const # W\n",
    "    \n",
    "    return PT + GT + GR + to_dB(const) # dBW\n",
    "\n",
    "def get_received_power_EIRP(EIRP, GR, wavelen, the_range, in_dB=True):\n",
    "    \"\"\"Computes the received power for an antenna.\n",
    "    If in_dB==True then EIRP, GR must be in db and the output is in dBW\n",
    "    Else, PT, GT, GR MUST NOT be in dB and the output is in W\n",
    "    \"\"\"\n",
    "    \n",
    "    const = (wavelen/(4*math.pi*the_range))**2\n",
    "    \n",
    "    if not in_dB:\n",
    "        return EIRP*GR*const # W\n",
    "    \n",
    "    return EIRP + GR + to_dB(const) # dBW\n",
    "    "
   ]
  },
  {
   "cell_type": "code",
   "execution_count": 18,
   "metadata": {
    "collapsed": true
   },
   "outputs": [],
   "source": [
    "def get_figure_of_merit(GR, T, in_dB=True):\n",
    "    \"\"\"Computes the ratio GR / T for a receiver.\n",
    "    If in_dB==True then GR and T must be in db and the output is in dB/K\n",
    "    Else, GR and T MUST NOT be in dB and the output is in K^-1\n",
    "    \"\"\"\n",
    "    \n",
    "    if not in_dB:\n",
    "        return GR/T\n",
    "    \n",
    "    return GR - T"
   ]
  },
  {
   "cell_type": "code",
   "execution_count": 19,
   "metadata": {
    "collapsed": true
   },
   "outputs": [],
   "source": [
    "def get_OFD(EIRP, Lp, uplink_losses, wavelen,  in_dB=True):\n",
    "    \"\"\"Computes the Operating Flux Density for a receiver.\n",
    "    This corresponds to the flux density once the IBO has been applied.\n",
    "    If IBO was 0 dB then we are operating at maximum power\n",
    "    If in_dB==True then EIRP, Lp and lossens must be in db and the output is in dBW/m^2\n",
    "    Else, EIRP, Lp and losses MUST NOT be in dB and the output is in W/m^2\n",
    "    \n",
    "    Lp must be a negative dB value\n",
    "    Losses must be positive dB values\n",
    "    \"\"\"\n",
    "    \n",
    "    gain = 1./get_Aeff(wavelen)\n",
    "    \n",
    "    if in_dB:\n",
    "        return EIRP + Lp - uplink_losses + to_dB(gain)\n",
    "    \n",
    "    return EIRP*Lp*gain/uplink_losses\n",
    "    "
   ]
  },
  {
   "cell_type": "code",
   "execution_count": 20,
   "metadata": {
    "collapsed": true
   },
   "outputs": [],
   "source": [
    "def get_noise_density(nois_temp, in_dB=True):\n",
    "    \"\"\"\n",
    "    Computes the noise density N0 knowing the noise temperatur\n",
    "    If in_dB is true then nois_temp must be in dbK and the output is in dBW/Hz\n",
    "    Else, nois_temp must be in K and the output is in W/Hz\n",
    "    \"\"\"\n",
    "    \n",
    "    k = 1.38*pow(10,-23)\n",
    "    \n",
    "    if in_dB:\n",
    "        return nois_temp + to_dB(k)\n",
    "    \n",
    "    return nois_temp*nois_temp"
   ]
  },
  {
   "cell_type": "code",
   "execution_count": 21,
   "metadata": {
    "collapsed": true
   },
   "outputs": [],
   "source": [
    "def get_C_over_N0(PR, N0, in_dB=True):\n",
    "    \"\"\"\n",
    "    Computes the ration C/N0 which corresponds to C/N multiplied by the bandwidth\n",
    "    If in_dB is true then PR must be in dBW and N0 in dBW/Hz, and the output is in dBHz\n",
    "    Else, PR must be in W and N0 in W/Hz and the output is in Hz\"\"\"\n",
    "    \n",
    "    if in_dB:\n",
    "        return PR-N0\n",
    "    \n",
    "    return PR/N0"
   ]
  },
  {
   "cell_type": "code",
   "execution_count": 22,
   "metadata": {
    "collapsed": true
   },
   "outputs": [],
   "source": [
    "def get_C_over_T(C_over_N0, in_dB=True):\n",
    "    \"\"\"Computes the ratio C/T knowing C/N0\n",
    "    If in_dB is True then C_over_N0 must be in dBHz and the output is in dBW/K\n",
    "    Else, C_over_N0 must be in Hz and the output is in W/K\"\"\"\n",
    "    \n",
    "    k = 1.38*pow(10,-23)\n",
    "    \n",
    "    if in_dB:\n",
    "        return C_over_N0 + to_dB(k)\n",
    "    \n",
    "    return C_over_N0 * k"
   ]
  },
  {
   "cell_type": "code",
   "execution_count": 23,
   "metadata": {
    "collapsed": true
   },
   "outputs": [],
   "source": [
    "def get_margin_left(data_R, C_over_N0, req_Eb_over_N0, losses, op_margin, in_dB=True):\n",
    "    \n",
    "    \"\"\"Computes the margin left with specified values\n",
    "    If in_dB is True then all parameters must be in dB system and so will be the output\n",
    "    Else, all parameters MUST NOT be in dB system.\"\"\"\n",
    "    \n",
    "    if in_dB:\n",
    "        return C_over_N0 - (req_Eb_over_N0+losses+op_margin) - data_R\n",
    "    \n",
    "    return C_over_N0 / (req_Eb_over_N0*losses*op_margin*data_R)"
   ]
  },
  {
   "cell_type": "code",
   "execution_count": 24,
   "metadata": {
    "collapsed": true
   },
   "outputs": [],
   "source": [
    "def get_C_over_N_alldB(PT, GT, GR,  B, Lp, T= to_dB(500), LA=0., LR=0., LM=0.):\n",
    "    \"\"\"Computes the ratio C/N.\n",
    "    Every parameter must be in dB system.\n",
    "    \n",
    "    NOTE : LA, LR and LM must be positive dB values\n",
    "    NOTE : Lp must be a negative dB value\"\"\"\n",
    "    \n",
    "    if LA<0 or LR<0 or LM<0:\n",
    "        raise ValueError(\"LA, LR and LM must be positive dB values.\")\n",
    "        \n",
    "    if Lp > 0:\n",
    "        raise ValueError(\"The path loss Lp must be a negative dB value\")\n",
    "    \n",
    "    # Boltzmann constants in dB\n",
    "    k = to_dB(1.38*math.pow(10,-23))\n",
    "    \n",
    "    return PT+GT+GR+Lp - (LA+LR+LM+k+T+B)"
   ]
  },
  {
   "cell_type": "markdown",
   "metadata": {},
   "source": [
    "## Let's define more complete functions to analyze the link"
   ]
  },
  {
   "cell_type": "code",
   "execution_count": 27,
   "metadata": {
    "collapsed": false
   },
   "outputs": [],
   "source": [
    "def oracle(trans_diam=None,\n",
    "           rcv_diam = None,\n",
    "           freq=None,\n",
    "           wavelen=None,\n",
    "           elevation_angle = None,\n",
    "           the_range = None,\n",
    "           PT_dB=None,\n",
    "           Lp = None,\n",
    "           GT=None,\n",
    "           GR=None,\n",
    "           G1m2 = None,\n",
    "           link_losses =0.,\n",
    "           OFD = None,\n",
    "           SFD=None,\n",
    "           IBO=0.,\n",
    "           OBO=0.,\n",
    "           flux=None,\n",
    "           G_over_T=None,\n",
    "           nois_temp_dB=None,\n",
    "           N0=None,\n",
    "           PR=None,\n",
    "           band_dB=None,\n",
    "           C_over_N=None,\n",
    "           C_over_N0=None,\n",
    "           C_over_T=None,\n",
    "           data_R_dB=None,\n",
    "           op_margin=None,\n",
    "           req_Eb_over_N0=None,\n",
    "           EIRP=None):\n",
    "    \n",
    "    \"\"\"Global oracle, outputs every thing we can know about the system\"\"\"\n",
    "    \n",
    "    if the_range is None and elevation_angle is not None:\n",
    "        the_range = get_range(elevation_angle)\n",
    "        print(\"Range =\", the_range, \"m\")\n",
    "    \n",
    "    if freq is not None and wavelen is None:\n",
    "        wavelen = get_lambda(freq)\n",
    "        print(\"Wavelength =\", wavelen, \"m\")\n",
    "        \n",
    "    if Lp is None and wavelen is not None and the_range is not None:\n",
    "        Lp = get_path_loss(wavelen, the_range)\n",
    "        print(\"Path loss Lp =\", Lp, \"dB\")\n",
    "        \n",
    "    print()\n",
    "        \n",
    "    if G1m2 is None and wavelen is not None:\n",
    "        G1m2 = to_dB(1./get_Aeff(wavelen))\n",
    "        print(\"Gain of 1 m^2 =\", G1m2, \"dBW/m^2\")\n",
    "    \n",
    "    if GT is None and trans_diam is not None and wavelen is not None:\n",
    "        GT = get_gain_parabolic(trans_diam, wavelen)\n",
    "        print(\"GT =\", GT, \"dBi\")\n",
    "    \n",
    "    if GR is None and rcv_diam is not None and wavelen is not None:\n",
    "        GR = get_gain_parabolic(rcv_diam, wavelen)\n",
    "        print(\"GR =\", GR, \"dBi\")\n",
    "        \n",
    "    if G_over_T is None and GR is not None and nois_temp_dB is not None:\n",
    "        G_over_T = get_figure_of_merit(GR, nois_temp_dB)\n",
    "        print(\"G/T =\", G_over_T, \"dB/K\")\n",
    "        \n",
    "    if PR is None and PT_dB is not None and GT is not None and GR is not None and wavelen is not None and the_range is not None:\n",
    "        PR = get_received_power(PT_dB, GT, GR, wavelen, the_range) -OBO\n",
    "        print(\"PR =\", PR, \"dBW\")\n",
    "        \n",
    "    if PR is None and EIRP is not None and GR is not None and wavelen is not None and the_range is not None:\n",
    "        PR = get_received_power_EIRP(EIRP, GR, wavelen, the_range) - OBO\n",
    "        print(\"PR =\", PR, \"dBW\")\n",
    "    \n",
    "    print()\n",
    "        \n",
    "    if N0 is None and nois_temp_dB is not None:\n",
    "        N0 = get_noise_density(nois_temp_dB)\n",
    "        print(\"N0 =\", N0, \"dBW/Hz\")\n",
    "        \n",
    "    if C_over_N0 is None and PR is not None and N0 is not None:\n",
    "        C_over_N0 = get_C_over_N0(PR,N0)\n",
    "        print(\"C/N0 =\", C_over_N0, \"dBHz\")\n",
    "        \n",
    "    if C_over_T is None and C_over_N0 is not None:\n",
    "        C_over_T = get_C_over_T(C_over_N0)\n",
    "        print(\"C/T =\", C_over_T, \"dBW/K\")\n",
    "        \n",
    "    if C_over_N is None and PT_dB is not None and GT is not None and GR is not None and band_dB is not None and Lp is not None and nois_temp_dB is not None:\n",
    "        C_over_N = get_C_over_N_alldB(PT_dB, GT, GR, band_dB, Lp, LA=link_losses, T=nois_temp_dB)\n",
    "        print(\"C/N =\", C_over_N, \"dB\")\n",
    "        \n",
    "    if C_over_N0 is not None and req_Eb_over_N0 is not None and link_losses is not None and op_margin is not None and data_R_dB is not None:\n",
    "        print(\"Margin left =\", get_margin_left(data_R_dB, C_over_N0, req_Eb_over_N0, link_losses, op_margin))\n",
    "        \n",
    "    print()\n",
    "        \n",
    "    if flux is None and PR is not None and wavelen is not None:\n",
    "        flux = get_flux_density(PR, wavelen)\n",
    "        print(\"Flux density =\", flux, \"dBW/m^2\")\n",
    "        \n",
    "        \n",
    "    if EIRP is None and GT is not None and PT_dB is not None:\n",
    "        EIRP = get_EIRP(PT_dB, GT)\n",
    "        print(\"EIRP =\", EIRP, \"dBW\")\n",
    "        \n",
    "    if OFD is None and EIRP is not None and Lp is not None and wavelen is not None :\n",
    "        OFD = get_OFD(EIRP, Lp, link_losses, wavelen)\n",
    "        print(\"OFD =\", OFD, \"dBW/m^2\")\n",
    "        \n",
    "        if SFD is None and IBO is not None:\n",
    "            print(\"SFD =\", OFD+IBO, \"dBW/m^2\")\n",
    "        \n",
    "        if SFD is not None:\n",
    "            print(\"IBO =\", SFD-OFD, \"dB\")\n",
    "        \n",
    "    \n",
    "        \n",
    "    "
   ]
  },
  {
   "cell_type": "code",
   "execution_count": 35,
   "metadata": {
    "collapsed": false,
    "scrolled": true
   },
   "outputs": [
    {
     "name": "stdout",
     "output_type": "stream",
     "text": [
      "Range = 40596116.97266416 m\n",
      "Wavelength = 0.05 m\n",
      "Path loss Lp = -200.17448709778085 dB\n",
      "\n",
      "Gain of 1 m^2 = 37.012698553500584 dBW/m^2\n",
      "GT = 39.38782417538437 dBi\n",
      "GR = 19.387824175384363 dBi\n",
      "G/T = -5.383388371812263 dB/K\n",
      "PR = -117.41943866029175 dBW\n",
      "\n",
      "N0 = -203.829996588791 dBW/Hz\n",
      "C/N0 = 86.41055792849926 dBHz\n",
      "C/T = -142.19065120748837 dBW/K\n",
      "C/N = 36.41055792849926 dB\n",
      "\n",
      "Flux density = -80.40674010679116 dBW/m^2\n",
      "EIRP = 63.36722426210474 dBW\n",
      "OFD = -99.79456428217553 dBW/m^2\n",
      "IBO = 9.794564282175529 dB\n"
     ]
    }
   ],
   "source": [
    "oracle(freq=6000*pow(10,6),\n",
    "       elevation_angle=10.,\n",
    "       PT_dB=to_dB(250),\n",
    "       trans_diam = 2.,\n",
    "       rcv_diam=0.2,\n",
    "       link_losses=0.,\n",
    "       \n",
    "       SFD=-90, #dBW/m^2\n",
    "       IBO = None,\n",
    "       EIRP=None, # The EIRP concept includes the concept of transmitting antenna and transmitting power\n",
    "       nois_temp_dB=to_dB(300),\n",
    "       op_margin = 0.,\n",
    "       req_Eb_over_N0 = None,\n",
    "       data_R_dB=to_dB(100000),\n",
    "       \n",
    "       band_dB=to_dB(100*pow(10,3)))"
   ]
  },
  {
   "cell_type": "code",
   "execution_count": 58,
   "metadata": {
    "collapsed": false
   },
   "outputs": [
    {
     "data": {
      "text/plain": [
       "34.673685045253166"
      ]
     },
     "execution_count": 58,
     "metadata": {},
     "output_type": "execute_result"
    }
   ],
   "source": [
    "to_decimal(15.4)"
   ]
  },
  {
   "cell_type": "code",
   "execution_count": 36,
   "metadata": {
    "collapsed": false
   },
   "outputs": [
    {
     "name": "stdout",
     "output_type": "stream",
     "text": [
      "Range = 40596116.97266416 m\n",
      "Wavelength = 0.075 m\n",
      "Path loss Lp = -196.65266191666723 dB\n",
      "\n",
      "Gain of 1 m^2 = 33.49087337238696 dBW/m^2\n",
      "GT = 29.84539908099112 dBi\n",
      "GR = 21.886598907550365 dBi\n",
      "PR = -128.42066392812575 dBW\n",
      "\n",
      "N0 = -201.6992483357025 dBW/Hz\n",
      "C/N0 = 73.27858440757674 dBHz\n",
      "C/T = -155.3226247284109 dBW/K\n",
      "C/N = 20.778584407576744 dB\n",
      "Margin left = 1.9785844075767471\n",
      "\n",
      "Flux density = -94.92979055573879 dBW/m^2\n",
      "EIRP = 49.845399080991115 dBW\n",
      "OFD = -119.31638946328916 dBW/m^2\n",
      "IBO = 29.316389463289156 dB\n"
     ]
    }
   ],
   "source": [
    "oracle(freq=4000*pow(10,6),\n",
    "       elevation_angle=10.,\n",
    "       PT_dB=to_dB(100),\n",
    "       trans_diam = 1.,\n",
    "       rcv_diam=0.4,\n",
    "       link_losses=6.,\n",
    "       G_over_T = 3.3,\n",
    "       SFD=-90, #dBW/m^2\n",
    "       IBO = None,\n",
    "       EIRP=None, # The EIRP concept includes the concept of transmitting antenna and transmitting power\n",
    "       nois_temp_dB=to_dB(490),\n",
    "       op_margin = 5.,\n",
    "       req_Eb_over_N0 = 10.3,\n",
    "       data_R_dB=to_dB(100000),\n",
    "       OBO = 3.5,\n",
    "       band_dB=to_dB(100*pow(10,3)))"
   ]
  },
  {
   "cell_type": "code",
   "execution_count": null,
   "metadata": {
    "collapsed": true
   },
   "outputs": [],
   "source": []
  }
 ],
 "metadata": {
  "anaconda-cloud": {},
  "kernelspec": {
   "display_name": "Python [default]",
   "language": "python",
   "name": "python3"
  },
  "language_info": {
   "codemirror_mode": {
    "name": "ipython",
    "version": 3
   },
   "file_extension": ".py",
   "mimetype": "text/x-python",
   "name": "python",
   "nbconvert_exporter": "python",
   "pygments_lexer": "ipython3",
   "version": "3.5.2"
  }
 },
 "nbformat": 4,
 "nbformat_minor": 0
}
