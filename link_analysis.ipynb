{
 "cells": [
  {
   "cell_type": "markdown",
   "metadata": {},
   "source": [
    "# Satellite Link Analysis tool\n",
    "## Written by Cyril Cadoux and Léa Bommottet for the satellite communication class (2018)\n",
    "### The main cells are located at the end of this notebook"
   ]
  },
  {
   "cell_type": "code",
   "execution_count": 1,
   "metadata": {},
   "outputs": [],
   "source": [
    "import math\n",
    "import numpy as np\n",
    "from scipy.linalg import toeplitz"
   ]
  },
  {
   "cell_type": "markdown",
   "metadata": {},
   "source": [
    "## Let's define a few constants"
   ]
  },
  {
   "cell_type": "code",
   "execution_count": 2,
   "metadata": {},
   "outputs": [],
   "source": [
    "EARTH_RADIUS = 6378*1000 # m\n",
    "GEO_RADIUS = 42174*1000 # m, distance between geostationary satellite and center of the EARTH\n",
    "GEO_ALTITUDE = GEO_RADIUS - EARTH_RADIUS\n",
    "\n",
    "LEO_ALTITUDE = 1000*1000 # m\n",
    "LEO_RADIUS = LEO_ALTITUDE + EARTH_RADIUS\n",
    "\n",
    "DEFAULT_IBO = -1.23456789"
   ]
  },
  {
   "cell_type": "markdown",
   "metadata": {},
   "source": [
    "## Let's define utility funtions"
   ]
  },
  {
   "cell_type": "code",
   "execution_count": 3,
   "metadata": {},
   "outputs": [],
   "source": [
    "'''Let's define utility functions'''\n",
    "\n",
    "def to_deg(rad):\n",
    "    return rad*180/math.pi\n",
    "\n",
    "def to_rad(deg):\n",
    "    return deg*math.pi/180\n",
    "\n",
    "def to_dB(decimal):\n",
    "    return 10*math.log10(decimal)\n",
    "\n",
    "def to_decimal(dB):\n",
    "    return 10**(dB/10)\n",
    "\n",
    "def cos_deg(deg):\n",
    "    return math.cos(to_rad(deg))\n",
    "\n",
    "def sin_deg(deg):\n",
    "    return math.sin(to_rad(deg))"
   ]
  },
  {
   "cell_type": "markdown",
   "metadata": {},
   "source": [
    "## Now let's define getter functions for single quantities"
   ]
  },
  {
   "cell_type": "code",
   "execution_count": 4,
   "metadata": {},
   "outputs": [],
   "source": [
    "def get_alpha_beta(elevation_angle, GEO=True):\n",
    "    \"\"\"\n",
    "    Compute the angle between the (satellite-earth center) line and the (satellite-earth surface) line.\n",
    "    The latter has an elevation_angle given with respect to the earth tangent.\n",
    "    All angles abre computed in degrees\n",
    "    \"\"\"\n",
    "    \n",
    "    radius = GEO_RADIUS if GEO else LEO_RADIUS\n",
    "    \n",
    "    alpha = to_deg(math.asin(EARTH_RADIUS * sin_deg(90. + elevation_angle) / radius))\n",
    "    beta = 180. - alpha - 90. - elevation_angle\n",
    "    \n",
    "    return alpha, beta\n",
    "    "
   ]
  },
  {
   "cell_type": "code",
   "execution_count": 5,
   "metadata": {},
   "outputs": [],
   "source": [
    "def get_range(elevation_angle, GEO=True):\n",
    "    '''\n",
    "    Computes the range [meters] of a satellite with a given elevation angle.\n",
    "    It is possible to define a sat_altitude in case the satellite is not geostationary'''\n",
    "    \n",
    "    alti = GEO_ALTITUDE if GEO else LEO_ALTITUDE\n",
    "    \n",
    "    alpha, beta = get_alpha_beta(elevation_angle, GEO=GEO)\n",
    "    return math.sqrt( (alti+EARTH_RADIUS)**2 + EARTH_RADIUS**2 - 2*EARTH_RADIUS*(EARTH_RADIUS+alti) * cos_deg(180-(90+elevation_angle)-alpha)) "
   ]
  },
  {
   "cell_type": "code",
   "execution_count": 6,
   "metadata": {},
   "outputs": [],
   "source": [
    "def get_covered_area(elevation_angle, GEO=True):\n",
    "    \n",
    "    '''\n",
    "    Computes the approximation of the covered area (km^2)of a satellite with a given elevation angle\n",
    "    '''\n",
    "    \n",
    "    alpha, beta = get_alpha_beta(elevation_angle, GEO=GEO)\n",
    "    \n",
    "    print(\"alpha = %.2f degree (half angle)\" % alpha)\n",
    "    print(\"beta = %.2f degree (half angle)\" % beta)\n",
    "    \n",
    "    \n",
    "    if (alpha < 10.):\n",
    "        the_range = get_range(elevation_angle, GEO=GEO)\n",
    "        r = sin_deg(alpha) * the_range\n",
    "        return math.pi*r*r\n",
    "    \n",
    "    print(\"The angle Theta/Alpha is over 10° so the approximation made by this function will be incorrect.\")\n",
    "    return -1"
   ]
  },
  {
   "cell_type": "code",
   "execution_count": 7,
   "metadata": {},
   "outputs": [],
   "source": [
    "def get_orbit_period(altitude):\n",
    "    '''\n",
    "    Combutes the orbital period of a satellite in hours.\n",
    "    The 'altitude' parameter is expressed in meters.'''\n",
    "    \n",
    "    orbit_radius = altitude + EARTH_RADIUS\n",
    "    result = 24.*math.pow(orbit_radius/GEO_RADIUS, 1.5)\n",
    "    pretty_print(result)\n",
    "    return result\n",
    "\n",
    "def pretty_print(hour):\n",
    "    h = int(np.floor(hour))\n",
    "    frac_h = hour-h\n",
    "    \n",
    "    minutes = frac_h * 60\n",
    "    m = int(np.floor(minutes))\n",
    "    frac_m = minutes - m\n",
    "    \n",
    "    seconds = frac_m * 60\n",
    "    s = int(np.floor(seconds))\n",
    "    \n",
    "    h_str = \"hours,\" if h > 1 else \"hour,\"\n",
    "    m_str = \"minutes,\" if m > 1 else \"minute,\"\n",
    "    s_str = \"seconds.\" if s > 1 else \"second.\"\n",
    "    \n",
    "    print(\"Duration :\", hour, \" hours. In other words :\", h, h_str, m, m_str, s, s_str)"
   ]
  },
  {
   "cell_type": "code",
   "execution_count": 8,
   "metadata": {},
   "outputs": [
    {
     "name": "stdout",
     "output_type": "stream",
     "text": [
      "Duration : 1.756111259758152  hours. In other words : 1 hour, 45 minutes, 22 seconds.\n"
     ]
    },
    {
     "data": {
      "text/plain": [
       "1.756111259758152"
      ]
     },
     "execution_count": 8,
     "metadata": {},
     "output_type": "execute_result"
    }
   ],
   "source": [
    "get_orbit_period(1000*1000)"
   ]
  },
  {
   "cell_type": "code",
   "execution_count": 9,
   "metadata": {},
   "outputs": [],
   "source": [
    "def get_path_loss(wave_len, the_range, dB=True):\n",
    "    '''By default the result is in dB'''\n",
    "    \n",
    "    result = (wave_len/(4.*math.pi*the_range))**2\n",
    "    \n",
    "    if not dB:\n",
    "        return result\n",
    "    \n",
    "    return to_dB(result)\n",
    "    "
   ]
  },
  {
   "cell_type": "code",
   "execution_count": 10,
   "metadata": {},
   "outputs": [],
   "source": [
    "def get_anten_area(dish_diameter):\n",
    "    \"\"\"Computes the area of a dish antenna given a specified diameter.\n",
    "    Parameter and output are in meters\"\"\"\n",
    "    return math.pi*dish_diameter*dish_diameter/4."
   ]
  },
  {
   "cell_type": "code",
   "execution_count": 11,
   "metadata": {},
   "outputs": [],
   "source": [
    "def get_lambda(transmit_freq, c=3.0*pow(10,8)):\n",
    "    \"\"\"Computes the wavelength of a wave with given frequency\"\"\"\n",
    "    return c/transmit_freq"
   ]
  },
  {
   "cell_type": "code",
   "execution_count": 12,
   "metadata": {},
   "outputs": [],
   "source": [
    "def get_gain_directive(anten_area, wave_len, dB=True):\n",
    "    \"\"\"Computes the gain of a directive antenna with given area and knowing the wave length\n",
    "    of the incoming signal.\n",
    "    By default the output is in dBi\"\"\"\n",
    "    \n",
    "    result = 4*math.pi*anten_area/(wave_len*wave_len)\n",
    "    \n",
    "    if not dB:\n",
    "        return result\n",
    "    \n",
    "    return to_dB(result)"
   ]
  },
  {
   "cell_type": "code",
   "execution_count": 13,
   "metadata": {},
   "outputs": [],
   "source": [
    "def get_gain_parabolic(diameter, wavelen, epsilon=0.55, dB= True):\n",
    "    \"\"\"Computes the gain of a parabolic dish antenna with given diameter\n",
    "    and knowing the wave length of the incoming signal.\n",
    "    By default the output is in dBi\"\"\"\n",
    "    \n",
    "    result = epsilon * (math.pi*diameter/wavelen)**2\n",
    "    \n",
    "    if not dB:\n",
    "        return result\n",
    "    \n",
    "    return to_dB(result)\n",
    "    "
   ]
  },
  {
   "cell_type": "code",
   "execution_count": 14,
   "metadata": {},
   "outputs": [],
   "source": [
    "def get_beamwidth_parabolic_3dB(diameter, wavelen, epsilon=0.55, deg=True):\n",
    "    \"\"\"Computes the beamwidth of a parabolic dish antenna with a given diameter\n",
    "    and given the signal wavelength.\n",
    "    By default the output is in degrees\"\"\"\n",
    "    result = wavelen/(diameter*math.sqrt(epsilon)) \n",
    "    \n",
    "    if not deg:\n",
    "        return result\n",
    "    \n",
    "    return to_deg(result)"
   ]
  },
  {
   "cell_type": "code",
   "execution_count": 15,
   "metadata": {},
   "outputs": [],
   "source": [
    "def get_EIRP(PT,GT, in_dB=True):\n",
    "    \"\"\"Computes the effective isotropic radiated power of a transmitter,\n",
    "    given its power PT and gain GT. \n",
    "    If in_dB== True then PT and GT must be both in dB system, and the output is in dBW.\n",
    "    Else, PT and GT must be in decimal and the output is in W\"\"\"\n",
    "    \n",
    "    if in_dB:\n",
    "        return PT + GT\n",
    "    \n",
    "    return PT*GT"
   ]
  },
  {
   "cell_type": "code",
   "execution_count": 16,
   "metadata": {},
   "outputs": [],
   "source": [
    "def get_Aeff(wavelen, isoG=1.):\n",
    "    \"\"\"Computes the effective area with the relative gain to an isotropic radiator\"\"\"\n",
    "    return wavelen*wavelen/(4*math.pi)"
   ]
  },
  {
   "cell_type": "code",
   "execution_count": 17,
   "metadata": {},
   "outputs": [],
   "source": [
    "def get_flux_density(PR, wavelen, isoG=1., in_dB=True):\n",
    "    \"\"\"Computes the flux density with the relative gain to an isotropic radiator.\n",
    "    If in_dB == True then PR must be in dBW and the output is in dBW/m^2.\n",
    "    Else, PR must be in W and the output is in W/m^2 \"\"\"\n",
    "    \n",
    "    Aeff = get_Aeff(wavelen, isoG=isoG)\n",
    "    \n",
    "    if not in_dB:\n",
    "        return PR/Aeff\n",
    "    \n",
    "    return PR - to_dB(Aeff)"
   ]
  },
  {
   "cell_type": "code",
   "execution_count": 18,
   "metadata": {},
   "outputs": [],
   "source": [
    "def get_received_power(PT, GT, GR, wavelen, the_range, in_dB=True):\n",
    "    \"\"\"Computes the received power for an antenna.\n",
    "    If in_dB==True then PT, GT, GR must be in db and the output is in dBW\n",
    "    Else, PT, GT, GR MUST NOT be in dB and the output is in W\n",
    "    \"\"\"\n",
    "    \n",
    "    const = (wavelen/(4*math.pi*the_range))**2\n",
    "    \n",
    "    if not in_dB:\n",
    "        return PT*GT*GR*const # W\n",
    "    \n",
    "    return PT + GT + GR + to_dB(const) # dBW\n",
    "\n",
    "def get_received_power_EIRP(EIRP, GR, wavelen, the_range, in_dB=True):\n",
    "    \"\"\"Computes the received power for an antenna.\n",
    "    If in_dB==True then EIRP, GR must be in db and the output is in dBW\n",
    "    Else, PT, GT, GR MUST NOT be in dB and the output is in W\n",
    "    \"\"\"\n",
    "    \n",
    "    const = (wavelen/(4*math.pi*the_range))**2\n",
    "    \n",
    "    if not in_dB:\n",
    "        return EIRP*GR*const # W\n",
    "    \n",
    "    return EIRP + GR + to_dB(const) # dBW\n",
    "    "
   ]
  },
  {
   "cell_type": "code",
   "execution_count": 19,
   "metadata": {},
   "outputs": [],
   "source": [
    "def get_figure_of_merit(GR, T, in_dB=True):\n",
    "    \"\"\"Computes the ratio GR / T for a receiver.\n",
    "    If in_dB==True then GR and T must be in db and the output is in dB/K\n",
    "    Else, GR and T MUST NOT be in dB and the output is in K^-1\n",
    "    \"\"\"\n",
    "    \n",
    "    if not in_dB:\n",
    "        return GR/T\n",
    "    \n",
    "    return GR - T"
   ]
  },
  {
   "cell_type": "code",
   "execution_count": 20,
   "metadata": {},
   "outputs": [],
   "source": [
    "def get_nois_from_GT(GR, G_over_T):\n",
    "    \"\"\"Computes the noise T knowing GR and  GR/T for a receiver.\n",
    "    NOTE : Be careful with the units :\n",
    "        - G_over_T must be in dB/K\n",
    "        - GR must be in dBi\n",
    "        - the output is in dBK\n",
    "    \"\"\"\n",
    "    \n",
    "    return -G_over_T+GR"
   ]
  },
  {
   "cell_type": "code",
   "execution_count": 21,
   "metadata": {},
   "outputs": [],
   "source": [
    "def get_OFD(EIRP, Lp, uplink_losses, wavelen,  in_dB=True):\n",
    "    \"\"\"Computes the Operating Flux Density for a receiver.\n",
    "    This corresponds to the flux density once the IBO has been applied.\n",
    "    If IBO was 0 dB then we are operating at maximum power\n",
    "    If in_dB==True then EIRP, Lp and lossens must be in db and the output is in dBW/m^2\n",
    "    Else, EIRP, Lp and losses MUST NOT be in dB and the output is in W/m^2\n",
    "    \n",
    "    Lp must be a negative dB value\n",
    "    Losses must be positive dB values\n",
    "    \"\"\"\n",
    "    \n",
    "    gain = 1./get_Aeff(wavelen)\n",
    "    \n",
    "    if in_dB:\n",
    "        return EIRP + Lp - uplink_losses + to_dB(gain)\n",
    "    \n",
    "    return EIRP*Lp*gain/uplink_losses\n",
    "    "
   ]
  },
  {
   "cell_type": "code",
   "execution_count": 22,
   "metadata": {},
   "outputs": [],
   "source": [
    "def get_noise_density(nois_temp, in_dB=True):\n",
    "    \"\"\"\n",
    "    Computes the noise density N0 knowing the noise temperatur\n",
    "    If in_dB is true then nois_temp must be in dbK and the output is in dBW/Hz\n",
    "    Else, nois_temp must be in K and the output is in W/Hz\n",
    "    \"\"\"\n",
    "    \n",
    "    k = 1.38*pow(10,-23)\n",
    "    \n",
    "    if in_dB:\n",
    "        return nois_temp + to_dB(k)\n",
    "    \n",
    "    return nois_temp*k"
   ]
  },
  {
   "cell_type": "code",
   "execution_count": 23,
   "metadata": {},
   "outputs": [],
   "source": [
    "def get_C_over_N0(PR, N0, in_dB=True):\n",
    "    \"\"\"\n",
    "    Computes the ration C/N0 which corresponds to C/N multiplied by the bandwidth\n",
    "    If in_dB is true then PR must be in dBW and N0 in dBW/Hz, and the output is in dBHz\n",
    "    Else, PR must be in W and N0 in W/Hz and the output is in Hz\"\"\"\n",
    "    \n",
    "    if in_dB:\n",
    "        return PR-N0\n",
    "    \n",
    "    return PR/N0"
   ]
  },
  {
   "cell_type": "code",
   "execution_count": 24,
   "metadata": {},
   "outputs": [],
   "source": [
    "def get_C_over_T(C_over_N0, in_dB=True):\n",
    "    \"\"\"Computes the ratio C/T knowing C/N0\n",
    "    If in_dB is True then C_over_N0 must be in dBHz and the output is in dBW/K\n",
    "    Else, C_over_N0 must be in Hz and the output is in W/K\"\"\"\n",
    "    \n",
    "    k = 1.38*pow(10,-23)\n",
    "    \n",
    "    if in_dB:\n",
    "        return C_over_N0 + to_dB(k)\n",
    "    \n",
    "    return C_over_N0 * k"
   ]
  },
  {
   "cell_type": "code",
   "execution_count": 25,
   "metadata": {},
   "outputs": [],
   "source": [
    "def get_margin_left(data_R, C_over_N0, req_Eb_over_N0, losses, op_margin, in_dB=True):\n",
    "    \n",
    "    \"\"\"Computes the margin left with specified values\n",
    "    If in_dB is True then all parameters must be in dB system and so will be the output\n",
    "    Else, all parameters MUST NOT be in dB system.\"\"\"\n",
    "    \n",
    "    if in_dB:\n",
    "        return C_over_N0 - (req_Eb_over_N0+losses+op_margin) - data_R\n",
    "    \n",
    "    return C_over_N0 / (req_Eb_over_N0*losses*op_margin*data_R)"
   ]
  },
  {
   "cell_type": "code",
   "execution_count": 26,
   "metadata": {},
   "outputs": [],
   "source": [
    "def get_C_over_N_alldB(PT, GT, GR,  B, Lp, T= to_dB(500), LA=0., LR=0., LM=0.):\n",
    "    \"\"\"Computes the ratio C/N.\n",
    "    Every parameter must be in dB system.\n",
    "    \n",
    "    NOTE : LA, LR and LM must be positive dB values\n",
    "    NOTE : Lp must be a negative dB value\"\"\"\n",
    "    \n",
    "    if LA<0 or LR<0 or LM<0:\n",
    "        raise ValueError(\"LA, LR and LM must be positive dB values.\")\n",
    "        \n",
    "    if Lp > 0:\n",
    "        raise ValueError(\"The path loss Lp must be a negative dB value\")\n",
    "    \n",
    "    # Boltzmann constants in dB\n",
    "    k = to_dB(1.38*math.pow(10,-23))\n",
    "    \n",
    "    return PT+GT+GR+Lp - (LA+LR+LM+k+T+B)"
   ]
  },
  {
   "cell_type": "code",
   "execution_count": 27,
   "metadata": {},
   "outputs": [],
   "source": [
    "def get_T_eff(gains,temp):\n",
    "    \"\"\"\n",
    "    Compute the effective temperature in K\n",
    "    T_eff = T1 + T2/G1 + T3/(G1G2) \n",
    "    Parameter : temp values must be in K\n",
    "    \"\"\"\n",
    "    nb_op = min(len(gains)+1,len(temp))\n",
    "    \n",
    "    new_gains = np.concatenate([[1],gains[0:nb_op-1]])\n",
    "    \n",
    "    # Get the Toeplitz matrix and multiply the elements column wise\n",
    "    new_gains = np.prod(toeplitz(np.ones([1,nb_op+1]).tolist(),new_gains.tolist()),axis = 0)\n",
    "    \n",
    "    # Divide the temperatures by the product of the gain.\n",
    "    return np.sum(np.array(temp[0:nb_op])/new_gains)\n",
    "\n",
    "def get_NF(Teff, T0=290.):\n",
    "    \"\"\"Computes the receiver noise figure knowing the effective receiver noise\"\"\"\n",
    "    return to_dB(1 + Teff/T0)\n",
    "\n",
    "def get_system_Noise(cable_loss,gains,temp,Ta):\n",
    "    \n",
    "    \"\"\"Computes the system noise (slide 22 lesson 2-3).\n",
    "    IMPORTANT : The parameter must be of precise type\n",
    "        - All values in temp and Ta must be in K.\n",
    "        - cable_loss must be in dB\n",
    "    OUTPUT is in K\"\"\"\n",
    "    T0 = 290 #K\n",
    "    \n",
    "    Teff = get_T_eff(gains,temp)\n",
    "    print(\"Teff =\", Teff, \"K\")\n",
    "    \n",
    "    NF = get_NF(Teff)\n",
    "    print(\"Noise Figure =\", NF, \"dB\")\n",
    "    \n",
    "    \n",
    "    gamma = 1/to_decimal(cable_loss)\n",
    "    print(\"Ts =\",gamma*Ta + (1-gamma)*T0+Teff, \"K\")\n",
    "    \n",
    "    return gamma*Ta + (1-gamma)*T0+Teff"
   ]
  },
  {
   "cell_type": "code",
   "execution_count": 28,
   "metadata": {},
   "outputs": [],
   "source": [
    "def get_Ne(Nd=9):\n",
    "    return 0.25*(3*Nd*Nd + 1)"
   ]
  },
  {
   "cell_type": "code",
   "execution_count": 29,
   "metadata": {},
   "outputs": [],
   "source": [
    "def get_d_phased_array(FOV_rad, wavelen, eps=0.55):\n",
    "    return wavelen / (FOV_rad*np.sqrt(0.55))"
   ]
  },
  {
   "cell_type": "markdown",
   "metadata": {},
   "source": [
    "## Let's define more complete functions to analyze the link"
   ]
  },
  {
   "cell_type": "code",
   "execution_count": 30,
   "metadata": {},
   "outputs": [],
   "source": [
    "def oracle(\n",
    "           GEO = True,\n",
    "           trans_diam=None,\n",
    "           rcv_diam = None,\n",
    "           freq=None,\n",
    "           wavelen=None,\n",
    "           elevation_angle = None,\n",
    "           the_range = None,\n",
    "           cov_area=None,\n",
    "           PT=None,\n",
    "           Lp = None,\n",
    "           GT=None,\n",
    "           GR=None,\n",
    "           G1m2 = None,\n",
    "           link_losses =0.,\n",
    "           OFD = None,\n",
    "           SFD=None, # thresold for saturation\n",
    "           IBO=DEFAULT_IBO,\n",
    "           OBO=0.,\n",
    "           flux=None,\n",
    "           G_over_T=None,\n",
    "           nois_temp=None,\n",
    "           N0=None,\n",
    "           PR=None,\n",
    "           band=None,\n",
    "           C_over_N=None,\n",
    "           C_over_N0=None,\n",
    "           C_over_T=None,\n",
    "           data_R=None,\n",
    "           op_margin=None,\n",
    "           req_Eb_over_N0=None, # = req S/N\n",
    "           EIRP=None,\n",
    "           beam_3dB_rad=None, # radians\n",
    "           FOV_rad=None, # radians\n",
    "           Nd=9, # for phased array\n",
    "           d_phased_array=None,\n",
    "           ):\n",
    "    \n",
    "    \"\"\"Global oracle, outputs every thing we can know about the system\"\"\"\n",
    "\n",
    "    # ========================================\n",
    "    # Conversion of the following parameters into dB\n",
    "    # The data rate, the transmit power, the bandwidth and the noise temperature MUST NOT be in dB system\n",
    "    data_R_dB = None\n",
    "    PT_dB = None\n",
    "    band_dB = None\n",
    "    nois_temp_dB = None\n",
    "    \n",
    "    if data_R is not None:\n",
    "        data_R_dB = to_dB(data_R)\n",
    "    \n",
    "    if PT is not None:\n",
    "        PT_dB = to_dB(PT)\n",
    "        \n",
    "    if band is not None:\n",
    "        band_dB = to_dB(band)\n",
    "        \n",
    "    if nois_temp is not None:\n",
    "        nois_temp_dB = to_dB(nois_temp)\n",
    "    \n",
    "    # ========================================\n",
    "    \n",
    "    \n",
    "    Ne = get_Ne(Nd=Nd)\n",
    "    \n",
    "    alpha = None # degree\n",
    "    beta = None  # degree\n",
    "    \n",
    "    if elevation_angle is not None :\n",
    "        alpha, beta = get_alpha_beta(elevation_angle, GEO=GEO)\n",
    "    \n",
    "    if the_range is None and elevation_angle is not None:\n",
    "        the_range = get_range(elevation_angle, GEO=GEO)\n",
    "        print(\"Range = %d km\" % (int(the_range)/1000.))\n",
    "        \n",
    "    if FOV_rad is None and alpha is not None and beta is not None:\n",
    "        FOV_rad = to_rad(2*alpha)\n",
    "        print(\"FOV 3dB = %3f radians\" % FOV_rad)\n",
    "        print(\"FOV 3dB = %3f degrees\" % to_deg(FOV_rad))\n",
    "        \n",
    "    if cov_area is None and elevation_angle is not None:\n",
    "        cov_area = get_covered_area(elevation_angle, GEO=GEO)/1000000\n",
    "        print(\"Covered area = %d km^2 \" % int(cov_area))\n",
    "        \n",
    "    print()\n",
    "    \n",
    "    if wavelen is None and beam_3dB_rad is not None and trans_diam is not None:\n",
    "        wavelen = np.sqrt(0.55) * beam_3dB_rad * trans_diam\n",
    "        print(\"Wavelength =\", wavelen, \"m\")\n",
    "        \n",
    "    if wavelen is None and FOV_rad is not None and d_phased_array is not None:\n",
    "        wavelen = np.sqrt(0.55) * FOV_rad * d_phased_array\n",
    "        print(\"Wavelength =\", wavelen, \"m\")\n",
    "        \n",
    "    \n",
    "    if trans_diam is None and wavelen is not None and beam_3dB_rad is not None:\n",
    "        trans_diam = wavelen / (beam_3dB_rad * sqrt(0.55))\n",
    "        print(\"Transmitter diameter = %.2f m\" % trans_diam)\n",
    "        \n",
    "    \n",
    "    if freq is not None and wavelen is None:\n",
    "        wavelen = get_lambda(freq)\n",
    "        print(\"Wavelength =\", wavelen, \"m\")\n",
    "        \n",
    "    if Lp is None and wavelen is not None and the_range is not None:\n",
    "        Lp = get_path_loss(wavelen, the_range)\n",
    "        print(\"Path loss Lp = %.2f dB\" % Lp)\n",
    "        \n",
    "    if d_phased_array is None and wavelen is not None and FOV_rad is not None:\n",
    "        d_phased_array = get_d_phased_array(FOV_rad, wavelen)\n",
    "        \n",
    "    if d_phased_array is None and trans_diam is not None:\n",
    "        d_phased_array = trans_diam/Nd\n",
    "        \n",
    "    from_phased_array = False\n",
    "    if trans_diam is None and d_phased_array is not None:\n",
    "        from_phased_array = True\n",
    "        trans_diam = Nd * d_phased_array\n",
    "        \n",
    "        \n",
    "    print()\n",
    "    \n",
    "    if beam_3dB_rad is None and wavelen is not None and trans_diam is not None:\n",
    "        beam_3dB_rad = get_beamwidth_parabolic_3dB(trans_diam, wavelen, deg=False)\n",
    "        print(\"Beamwidth 3dB = %.4f radians\" % beam_3dB_rad)\n",
    "        print(\"Beamwidth 3dB = %.4f degrees\" % to_deg(beam_3dB_rad))\n",
    "        \n",
    "    if FOV_rad is None and wavelen is not None and d_phased_array is not None:\n",
    "        FOV_rad = get_beamwidth_parabolic_3dB(d_phased_array, wavelen, deg=False)\n",
    "        print(\"FOV 3dB = %.4f radians\" % FOV_rad)\n",
    "        print(\"FOV 3dB = %.4f degrees\" % to_deg(FOV_rad))\n",
    "        \n",
    "    print()\n",
    "\n",
    "    if G1m2 is None and wavelen is not None:\n",
    "        G1m2 = to_dB(1./get_Aeff(wavelen))\n",
    "        print(\"Gain of 1 m^2 = %.2f dBW/m^2\" % G1m2)\n",
    "    \n",
    "    if GT is None and trans_diam is not None and wavelen is not None:\n",
    "        GT = get_gain_parabolic(trans_diam, wavelen)\n",
    "        print(\"GT = %.2f dBi\" % GT)\n",
    "    \n",
    "    if GR is None and rcv_diam is not None and wavelen is not None:\n",
    "        GR = get_gain_parabolic(rcv_diam, wavelen)\n",
    "        print(\"GR = %.2f dBi\" % GR)\n",
    "        \n",
    "    if nois_temp_dB is None and GR is not None and G_over_T is not None:\n",
    "        nois_temp_dB = get_nois_from_GT(GR, G_over_T)\n",
    "        print(\"Ts = %.2f dBK = %.2f K\" % (nois_temp_dB, to_decimal(nois_temp_dB)))\n",
    "        \n",
    "    if G_over_T is None and GR is not None and nois_temp_dB is not None:\n",
    "        G_over_T = get_figure_of_merit(GR, nois_temp_dB)\n",
    "        print(\"G/T = GR/T = %.2f dB/K\" % G_over_T)\n",
    "        \n",
    "    print()\n",
    "    \n",
    "    PR_with_losses = None\n",
    "    if PR is None and PT_dB is not None and GT is not None and GR is not None and wavelen is not None and the_range is not None:\n",
    "        PR = get_received_power(PT_dB, GT, GR, wavelen, the_range) -OBO\n",
    "        print(\"PR = %.2f dBW *without considering the possible losses*\" % PR)\n",
    "        \n",
    "        \n",
    "    if PR is None and EIRP is not None and GR is not None and wavelen is not None and the_range is not None:\n",
    "        PR = get_received_power_EIRP(EIRP, GR, wavelen, the_range) - OBO\n",
    "        print(\"PR = %.2f dBW *without considering the possible losses !*\" % PR)\n",
    "        \n",
    "    if PR is not None :\n",
    "        PR_with_losses = PR - link_losses\n",
    "        print(\"PR = %.2f dBW *considering the possible losses*\" % PR_with_losses)\n",
    "    \n",
    "    print()\n",
    "        \n",
    "    if N0 is None and nois_temp_dB is not None:\n",
    "        N0 = get_noise_density(nois_temp_dB)\n",
    "        print(\"N0 = %.2f dBW/Hz\" % N0)\n",
    "        \n",
    "    if C_over_N0 is None and PR is not None and N0 is not None:\n",
    "        C_over_N0 = get_C_over_N0(PR,N0)\n",
    "        print(\"C/N0 = %.2f dBHz\" % C_over_N0)\n",
    "        \n",
    "    if C_over_T is None and C_over_N0 is not None:\n",
    "        C_over_T = get_C_over_T(C_over_N0)\n",
    "        print(\"C/T = %.2f dBW/K\" % C_over_T)\n",
    "        \n",
    "    if C_over_N is None and PT_dB is not None and GT is not None and GR is not None and band_dB is not None and Lp is not None and nois_temp_dB is not None:\n",
    "        C_over_N = get_C_over_N_alldB(PT_dB, GT, GR, band_dB, Lp, LA=link_losses, T=nois_temp_dB)\n",
    "        print(\"C/N = %.2f dB\" % C_over_N)\n",
    "        \n",
    "    if C_over_N0 is not None and req_Eb_over_N0 is not None and link_losses is not None and op_margin is not None and data_R_dB is not None:\n",
    "        print(\"Margin left = %.2f dB\" % get_margin_left(data_R_dB, C_over_N0, req_Eb_over_N0, link_losses, op_margin))\n",
    "        \n",
    "    print()\n",
    "        \n",
    "    if flux is None and PR_with_losses is not None and wavelen is not None:\n",
    "        flux = get_flux_density(PR_with_losses, wavelen)\n",
    "        print(\"Flux density = %.2f dBW/m^2 *considering the possible losses*\" % flux)\n",
    "        \n",
    "        \n",
    "    if EIRP is None and GT is not None and PT_dB is not None:\n",
    "        EIRP = get_EIRP(PT_dB, GT)\n",
    "        print(\"EIRP = to_dB(GT*PT) = %.2f dBW\" % EIRP)\n",
    "        \n",
    "    if OFD is None and EIRP is not None and Lp is not None and wavelen is not None :\n",
    "        OFD = get_OFD(EIRP, Lp, link_losses, wavelen)\n",
    "        print(\"OFD = %.2f dBW/m^2 (Operating Flux Density)\" % OFD)\n",
    "        \n",
    "        if SFD is None and IBO != DEFAULT_IBO:\n",
    "            print(\"SFD = %.2f dBW/m^2 (Saturation Flux Density)\" % (OFD+IBO))\n",
    "        \n",
    "        if SFD is not None:\n",
    "            print(\"IBO = SFD-OFD = %.2f dB\" % (SFD-OFD))\n",
    "            \n",
    "            \n",
    "    print(\"\\nIf considering a Phased Array:\")\n",
    "    print(\"Nd = %d and Ne = %d\" % (Nd, Ne))        \n",
    "    \n",
    "    if d_phased_array is not None:\n",
    "        print(\"d = %.5f m\" %d_phased_array)\n",
    "        \n",
    "    if from_phased_array:\n",
    "        print(\"trans_diam = %.5f m\" %trans_diam)\n",
    "        \n",
    "    "
   ]
  },
  {
   "cell_type": "markdown",
   "metadata": {},
   "source": [
    "#### Uplink cell"
   ]
  },
  {
   "cell_type": "code",
   "execution_count": 31,
   "metadata": {
    "scrolled": false
   },
   "outputs": [
    {
     "name": "stdout",
     "output_type": "stream",
     "text": [
      "Range = 38621 km\n",
      "FOV 3dB = 0.262694 radians\n",
      "FOV 3dB = 15.051246 degrees\n",
      "alpha = 7.53 degree (half angle)\n",
      "beta = 52.47 degree (half angle)\n",
      "Covered area = 80381113 km^2 \n",
      "\n",
      "Wavelength = 0.16666666666666666 m\n",
      "Path loss Lp = -189.28 dB\n",
      "\n",
      "Beamwidth 3dB = 0.1124 radians\n",
      "Beamwidth 3dB = 6.4381 degrees\n",
      "\n",
      "Gain of 1 m^2 = 26.56 dBW/m^2\n",
      "GT = 28.93 dBi\n",
      "GR = 8.93 dBi\n",
      "G/T = GR/T = -15.84 dB/K\n",
      "\n",
      "PR = -138.41 dBW *without considering the possible losses*\n",
      "PR = -138.41 dBW *considering the possible losses*\n",
      "\n",
      "N0 = -203.83 dBW/Hz\n",
      "C/N0 = 65.42 dBHz\n",
      "C/T = -163.18 dBW/K\n",
      "\n",
      "Flux density = -111.86 dBW/m^2 *considering the possible losses*\n",
      "EIRP = to_dB(GT*PT) = 41.94 dBW\n",
      "OFD = -120.79 dBW/m^2 (Operating Flux Density)\n",
      "IBO = SFD-OFD = 10.79 dB\n",
      "\n",
      "If considering a Phased Array:\n",
      "Nd = 9 and Ne = 61\n",
      "d = 0.85550 m\n"
     ]
    }
   ],
   "source": [
    "oracle(freq=1800*pow(10,6),\n",
    "       elevation_angle=30.,\n",
    "       PT=20, #W\n",
    "       trans_diam = 2,#m\n",
    "       rcv_diam=0.2,#m\n",
    "       link_losses=0, # uplink losses in dB\n",
    "       nois_temp=300,\n",
    "       SFD=-110, # dBW/m^2 thresold for saturation\n",
    "      )"
   ]
  },
  {
   "cell_type": "markdown",
   "metadata": {},
   "source": [
    "#### Downlink cell"
   ]
  },
  {
   "cell_type": "code",
   "execution_count": 32,
   "metadata": {},
   "outputs": [
    {
     "name": "stdout",
     "output_type": "stream",
     "text": [
      "Range = 38621 km\n",
      "FOV 3dB = 0.262694 radians\n",
      "FOV 3dB = 15.051246 degrees\n",
      "alpha = 7.53 degree (half angle)\n",
      "beta = 52.47 degree (half angle)\n",
      "Covered area = 80381113 km^2 \n",
      "\n",
      "Wavelength = 0.15 m\n",
      "Path loss Lp = -190.20 dB\n",
      "\n",
      "Beamwidth 3dB = 1.0113 radians\n",
      "Beamwidth 3dB = 57.9432 degrees\n",
      "\n",
      "Gain of 1 m^2 = 27.47 dBW/m^2\n",
      "GT = 9.85 dBi\n",
      "GR = 29.85 dBi\n",
      "G/T = GR/T = 5.07 dB/K\n",
      "\n",
      "PR = -115.35 dBW *without considering the possible losses !*\n",
      "PR = -121.35 dBW *considering the possible losses*\n",
      "\n",
      "N0 = -203.83 dBW/Hz\n",
      "C/N0 = 88.48 dBHz\n",
      "C/T = -140.12 dBW/K\n",
      "Margin left = 16.48 dB\n",
      "\n",
      "Flux density = -93.88 dBW/m^2 *considering the possible losses*\n",
      "OFD = -118.93 dBW/m^2 (Operating Flux Density)\n",
      "\n",
      "If considering a Phased Array:\n",
      "Nd = 9 and Ne = 61\n",
      "d = 0.76995 m\n"
     ]
    }
   ],
   "source": [
    "oracle(freq=2000*pow(10,6),\n",
    "       elevation_angle=30.,\n",
    "       PT=None,\n",
    "       trans_diam = 0.2,\n",
    "       rcv_diam=2,\n",
    "       nois_temp=300,\n",
    "       link_losses=6., # miscellaneous (implementation...)\n",
    "       op_margin = 6., # operating margin (rain, atmosphere)\n",
    "       OBO = 4.8, # Deduced from IBO of uplink and slide 28 of lecture 2-3\n",
    "       EIRP=49.8,\n",
    "       data_R=100*1000, # bits/s\n",
    "       band=100*1000, # Hz\n",
    "       req_Eb_over_N0=10,\n",
    "      )\n",
    "       "
   ]
  },
  {
   "cell_type": "code",
   "execution_count": 33,
   "metadata": {},
   "outputs": [
    {
     "name": "stdout",
     "output_type": "stream",
     "text": [
      "Teff = 350.0 K\n",
      "Noise Figure = 3.4378197608493104 dB\n",
      "Ts = 489.07763540238653 K\n"
     ]
    }
   ],
   "source": [
    "Ts = get_system_Noise(1,[10,30],[300,500],100)"
   ]
  },
  {
   "cell_type": "code",
   "execution_count": 34,
   "metadata": {},
   "outputs": [
    {
     "name": "stdout",
     "output_type": "stream",
     "text": [
      "Range = 41688 km\n",
      "FOV 3dB = 0.303626 radians\n",
      "FOV 3dB = 17.396499 degrees\n",
      "alpha = 8.70 degree (half angle)\n",
      "beta = 81.30 degree (half angle)\n",
      "Covered area = 124873688 km^2 \n",
      "\n",
      "\n",
      "\n",
      "\n",
      "\n",
      "\n",
      "\n",
      "If considering a Phased Array:\n",
      "Nd = 9 and Ne = 61\n"
     ]
    }
   ],
   "source": [
    "oracle(elevation_angle=0, GEO=True)"
   ]
  },
  {
   "cell_type": "markdown",
   "metadata": {},
   "source": [
    "#### Exercise week 10"
   ]
  },
  {
   "cell_type": "code",
   "execution_count": 35,
   "metadata": {},
   "outputs": [
    {
     "name": "stdout",
     "output_type": "stream",
     "text": [
      "Range = 38621 km\n",
      "FOV 3dB = 0.262694 radians\n",
      "FOV 3dB = 15.051246 degrees\n",
      "alpha = 7.53 degree (half angle)\n",
      "beta = 52.47 degree (half angle)\n",
      "Covered area = 80381113 km^2 \n",
      "\n",
      "Wavelength = 0.01 m\n",
      "Path loss Lp = -213.72 dB\n",
      "\n",
      "Beamwidth 3dB = 0.0292 radians\n",
      "Beamwidth 3dB = 1.6724 degrees\n",
      "\n",
      "Gain of 1 m^2 = 50.99 dBW/m^2\n",
      "GT = 40.64 dBi\n",
      "\n",
      "\n",
      "\n",
      "OFD = -112.73 dBW/m^2 (Operating Flux Density)\n",
      "\n",
      "If considering a Phased Array:\n",
      "Nd = 9 and Ne = 61\n",
      "d = 0.05133 m\n",
      "trans_diam = 0.46197 m\n"
     ]
    }
   ],
   "source": [
    "oracle(elevation_angle=30,\n",
    "       PT=10,\n",
    "       EIRP=50,\n",
    "       freq=30*pow(10,9),      \n",
    "       GEO=True)"
   ]
  },
  {
   "cell_type": "code",
   "execution_count": 36,
   "metadata": {},
   "outputs": [
    {
     "name": "stdout",
     "output_type": "stream",
     "text": [
      "Range = 37422 km\n",
      "FOV 3dB = 0.214282 radians\n",
      "FOV 3dB = 12.277461 degrees\n",
      "alpha = 6.14 degree (half angle)\n",
      "beta = 38.86 degree (half angle)\n",
      "Covered area = 50310534 km^2 \n",
      "\n",
      "\n",
      "\n",
      "\n",
      "\n",
      "\n",
      "\n",
      "If considering a Phased Array:\n",
      "Nd = 9 and Ne = 61\n"
     ]
    }
   ],
   "source": [
    "oracle(elevation_angle=45)"
   ]
  },
  {
   "cell_type": "code",
   "execution_count": null,
   "metadata": {},
   "outputs": [],
   "source": []
  },
  {
   "cell_type": "code",
   "execution_count": null,
   "metadata": {},
   "outputs": [],
   "source": []
  }
 ],
 "metadata": {
  "anaconda-cloud": {},
  "kernelspec": {
   "display_name": "Python 3",
   "language": "python",
   "name": "python3"
  },
  "language_info": {
   "codemirror_mode": {
    "name": "ipython",
    "version": 3
   },
   "file_extension": ".py",
   "mimetype": "text/x-python",
   "name": "python",
   "nbconvert_exporter": "python",
   "pygments_lexer": "ipython3",
   "version": "3.7.1"
  }
 },
 "nbformat": 4,
 "nbformat_minor": 1
}
