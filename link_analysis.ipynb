{
 "cells": [
  {
   "cell_type": "markdown",
   "metadata": {},
   "source": [
    "# Satellite Link Analysis tool"
   ]
  },
  {
   "cell_type": "code",
   "execution_count": 73,
   "metadata": {
    "collapsed": true
   },
   "outputs": [],
   "source": [
    "import math\n",
    "import numpy as np"
   ]
  },
  {
   "cell_type": "markdown",
   "metadata": {},
   "source": [
    "## Let's define a few constants"
   ]
  },
  {
   "cell_type": "code",
   "execution_count": 74,
   "metadata": {
    "collapsed": true
   },
   "outputs": [],
   "source": [
    "EARTH_RADIUS = 6378 # km\n",
    "GEO_RADIUS = 42174 # km, distance between geostationary satellite and center of the EARTH\n",
    "GEO_ALTITUDE = GEO_RADIUS - EARTH_RADIUS"
   ]
  },
  {
   "cell_type": "markdown",
   "metadata": {},
   "source": [
    "## Let's define utility funtions"
   ]
  },
  {
   "cell_type": "code",
   "execution_count": 75,
   "metadata": {
    "collapsed": true
   },
   "outputs": [],
   "source": [
    "'''Let's define utility functions'''\n",
    "\n",
    "def to_deg(rad):\n",
    "    return rad*180/math.pi\n",
    "\n",
    "def to_rad(deg):\n",
    "    return deg*math.pi/180\n",
    "\n",
    "def to_dB(decimal):\n",
    "    return 10*math.log10(decimal)\n",
    "\n",
    "def to_decimal(dB):\n",
    "    return 10**(dB/10)\n",
    "\n",
    "def cos_deg(deg):\n",
    "    return math.cos(to_rad(deg))\n",
    "\n",
    "def sin_deg(deg):\n",
    "    return math.sin(to_rad(deg))"
   ]
  },
  {
   "cell_type": "markdown",
   "metadata": {},
   "source": [
    "## Now let's define getter functions for single quantities"
   ]
  },
  {
   "cell_type": "code",
   "execution_count": 76,
   "metadata": {
    "collapsed": true
   },
   "outputs": [],
   "source": [
    "def get_alpha_beta(elevation_angle):\n",
    "    \"\"\"\n",
    "    Compute the angle between the (satellite-earth center) line and the (satellite-earth surface) line.\n",
    "    The latter has an elevation_angle given with respect to the earth tangent.\n",
    "    All angles abre computed in degrees\n",
    "    \"\"\"\n",
    "    \n",
    "    alpha = to_deg(math.asin(EARTH_RADIUS * sin_deg(90. + elevation_angle) / GEO_RADIUS))\n",
    "    beta = 180. - alpha - 90. - elevation_angle\n",
    "    return alpha, beta\n",
    "    "
   ]
  },
  {
   "cell_type": "code",
   "execution_count": 77,
   "metadata": {
    "collapsed": true
   },
   "outputs": [],
   "source": [
    "def get_range(elevation_angle, sat_altitude=GEO_ALTITUDE):\n",
    "    '''\n",
    "    Computes the range (km) of a satellite with a given elevation angle.\n",
    "    It is possible to define a sat_altitude in case the satellite is not geostationary'''\n",
    "    \n",
    "    alpha, beta = get_alpha_beta(elevation_angle)\n",
    "    return math.sqrt( (sat_altitude+EARTH_RADIUS)**2 + EARTH_RADIUS**2 - 2*EARTH_RADIUS*(EARTH_RADIUS+sat_altitude) * cos_deg(180-(90+elevation_angle)-alpha)) "
   ]
  },
  {
   "cell_type": "code",
   "execution_count": 78,
   "metadata": {
    "collapsed": true
   },
   "outputs": [],
   "source": [
    "def get_covered_area(elevation_angle, sat_altitude=GEO_ALTITUDE):\n",
    "    \n",
    "    '''\n",
    "    Computes the approximation of the covered area (km^2)of a satellite with a given elevation angle\n",
    "    '''\n",
    "    \n",
    "    alpha, beta = get_alpha_beta(elevation_angle)\n",
    "    \n",
    "    if (alpha < 10.):\n",
    "        the_range = get_range(elevation_angle, sat_altitude)\n",
    "        r = sin_deg(alpha) * the_range\n",
    "        return math.pi*r*r\n",
    "    \n",
    "    raise ValueError(\"The angle Theta/Alpha is over 10° so the approximation made by this function will be incorrect.\")"
   ]
  },
  {
   "cell_type": "code",
   "execution_count": 79,
   "metadata": {
    "collapsed": false
   },
   "outputs": [],
   "source": [
    "def get_orbit_period(orbit_radius):\n",
    "    '''\n",
    "    Combutes the orbital period of a satellite in hours'''\n",
    "    result = 24.*math.pow(orbit_radius/GEO_RADIUS, 1.5)\n",
    "    pretty_print(result)\n",
    "    return result\n",
    "\n",
    "def pretty_print(hour):\n",
    "    h = int(np.floor(hour))\n",
    "    frac_h = hour-h\n",
    "    \n",
    "    minutes = frac_h * 60\n",
    "    m = int(np.floor(minutes))\n",
    "    frac_m = minutes - m\n",
    "    \n",
    "    seconds = frac_m * 60\n",
    "    s = int(np.floor(seconds))\n",
    "    \n",
    "    h_str = \"hours,\" if h > 1 else \"hour,\"\n",
    "    m_str = \"minutes,\" if m > 1 else \"minute,\"\n",
    "    s_str = \"seconds.\" if s > 1 else \"second.\"\n",
    "    \n",
    "    print(\"Duration :\", h, h_str, m, m_str, s, s_str)"
   ]
  },
  {
   "cell_type": "code",
   "execution_count": 80,
   "metadata": {
    "collapsed": true
   },
   "outputs": [],
   "source": [
    "def get_path_loss(wave_len, the_range, dB=True):\n",
    "    '''By default the result is in dB'''\n",
    "    \n",
    "    result = (wave_len/(4.*math.pi*the_range))**2\n",
    "    \n",
    "    if not dB:\n",
    "        return result\n",
    "    \n",
    "    return to_dB(result)\n",
    "    "
   ]
  },
  {
   "cell_type": "code",
   "execution_count": 81,
   "metadata": {
    "collapsed": true
   },
   "outputs": [],
   "source": [
    "def get_anten_area(dish_diameter):\n",
    "    \"\"\"Computes the area of a dish antenna given a specified diameter.\n",
    "    Parameter and output are in meters\"\"\"\n",
    "    return math.pi*dish_diameter*dish_diameter/4."
   ]
  },
  {
   "cell_type": "code",
   "execution_count": 82,
   "metadata": {
    "collapsed": true
   },
   "outputs": [],
   "source": [
    "def get_lambda(transmit_freq, c=3.0*pow(10,8)):\n",
    "    \"\"\"Computes the wavelength of a wave with given frequency\"\"\"\n",
    "    return c/transmit_freq"
   ]
  },
  {
   "cell_type": "code",
   "execution_count": 83,
   "metadata": {
    "collapsed": true
   },
   "outputs": [],
   "source": [
    "def get_gain_directive(anten_area, wave_len, dB=True):\n",
    "    \"\"\"Computes the gain of a directive antenna with given area and knowing the wave length\n",
    "    of the incoming signal.\n",
    "    By default the output is in dBi\"\"\"\n",
    "    \n",
    "    result = 4*math.pi*anten_area/(wave_len*wave_len)\n",
    "    \n",
    "    if not dB:\n",
    "        return result\n",
    "    \n",
    "    return to_dB(result)"
   ]
  },
  {
   "cell_type": "code",
   "execution_count": 84,
   "metadata": {
    "collapsed": true
   },
   "outputs": [],
   "source": [
    "def get_gain_parabolic(diameter, wavelen, epsilon=0.55, dB= True):\n",
    "    \"\"\"Computes the gain of a parabolic dish antenna with given diameter\n",
    "    and knowing the wave length of the incoming signal.\n",
    "    By default the output is in dBi\"\"\"\n",
    "    \n",
    "    result = epsilon * (math.pi*diameter/wavelen)**2\n",
    "    \n",
    "    if not dB:\n",
    "        return result\n",
    "    \n",
    "    return to_dB(result)\n",
    "    "
   ]
  },
  {
   "cell_type": "code",
   "execution_count": 85,
   "metadata": {
    "collapsed": false
   },
   "outputs": [],
   "source": [
    "def get_beamwidth_parabolic(diameter, wavelen, epsilon=0.55, deg=True):\n",
    "    \"\"\"Computes the beamwidth of a parabolic dish antenna with a given diameter\n",
    "    and given the signal wavelength.\n",
    "    By default the output is in degrees\"\"\"\n",
    "    result = wavelen/(diameter*math.sqrt(epsilon)) \n",
    "    \n",
    "    if not deg:\n",
    "        return result\n",
    "    \n",
    "    return to_deg(result)"
   ]
  },
  {
   "cell_type": "code",
   "execution_count": 86,
   "metadata": {
    "collapsed": true
   },
   "outputs": [],
   "source": [
    "def get_EIRP(PT, GT, in_dB=True):\n",
    "    \"\"\"Computes the effective isotropic radiated power of a transmitter,\n",
    "    given its power PT and gain GT. \n",
    "    If in_dB== True then PT and GT must be both in dB system, and the output is in dBW.\n",
    "    Else, PT and GT must be in decimal and the output is in W\"\"\"\n",
    "    \n",
    "    if in_dB:\n",
    "        return PT + GT\n",
    "    \n",
    "    return PT*GT"
   ]
  },
  {
   "cell_type": "code",
   "execution_count": 87,
   "metadata": {
    "collapsed": true
   },
   "outputs": [],
   "source": [
    "def get_Aeff(wavelen, isoG=1.):\n",
    "    \"\"\"Computes the effective area with the relative gain to an isotropic radiator\"\"\"\n",
    "    return wavelen*wavelen/(4*math.pi)"
   ]
  },
  {
   "cell_type": "code",
   "execution_count": 88,
   "metadata": {
    "collapsed": true
   },
   "outputs": [],
   "source": [
    "def get_flux_density(PR, wavelen, isoG=1., in_dB=True):\n",
    "    \"\"\"Computes the flux density with the relative gain to an isotropic radiator.\n",
    "    If in_dB == True then PR must be in dBW and the output is in dBW/m^2.\n",
    "    Else, PR must be in W and the output is in W/m^2 \"\"\"\n",
    "    \n",
    "    Aeff = get_Aeff(wavelen, isoG=isoG)\n",
    "    \n",
    "    if not in_dB:\n",
    "        return PR/Aeff\n",
    "    \n",
    "    return PR - to_dB(Aeff)"
   ]
  },
  {
   "cell_type": "code",
   "execution_count": 89,
   "metadata": {
    "collapsed": false
   },
   "outputs": [],
   "source": [
    "def get_received_power(PT, GT, GR, wavelen, the_range, in_dB=True):\n",
    "    \"\"\"Computes the received power for an antenna.\n",
    "    If in_dB==True then PT, GT, GR must be in db and the output is in dBW\n",
    "    Else, PT, GT, GR MUST NOT be in dB and the output is in W\n",
    "    \"\"\"\n",
    "    \n",
    "    const = (wavelen/(4*math.pi*the_range))**2\n",
    "    \n",
    "    if not in_dB:\n",
    "        return PT*GT*GR*const # W\n",
    "    \n",
    "    return PT + GT + GR + to_dB(const) # dBW\n",
    "    "
   ]
  },
  {
   "cell_type": "code",
   "execution_count": 90,
   "metadata": {
    "collapsed": true
   },
   "outputs": [],
   "source": [
    "def get_figure_of_merit(GR, T, in_dB=True):\n",
    "    \"\"\"Computes the ratio GR / T for a receiver.\n",
    "    If in_dB==True then GR and T must be in db and the output is in dB/K\n",
    "    Else, GR and T MUST NOT be in dB and the output is in K^-1\n",
    "    \"\"\"\n",
    "    \n",
    "    if not in_dB:\n",
    "        return GR/T\n",
    "    \n",
    "    return GR - T"
   ]
  },
  {
   "cell_type": "code",
   "execution_count": 91,
   "metadata": {
    "collapsed": true
   },
   "outputs": [],
   "source": [
    "def get_C_over_N_alldB(PT, GT, GR,  B, Lp, T= to_dB(500), LA=0., LR=0., LM=0.):\n",
    "    \"\"\"Computes the ratio C/N.\n",
    "    Every parameter must be in dB system.\n",
    "    \n",
    "    NOTE : LA, LR and LM must be positive dB values\n",
    "    NOTE : Lp must be a negative dB value\"\"\"\n",
    "    \n",
    "    if LA<0 or LR<0 or LM<0:\n",
    "        raise ValueError(\"LA, LR and LM must be positive dB values.\")\n",
    "        \n",
    "    if Lp > 0:\n",
    "        raise ValueError(\"The path loss Lp must be a negative dB value\")\n",
    "    \n",
    "    # Boltzmann constants in dB\n",
    "    k = to_dB(1.38*math.pow(10,-23))\n",
    "    \n",
    "    return PT+GT+GR+Lp - (LA+LR+LM+k+T+B)"
   ]
  },
  {
   "cell_type": "markdown",
   "metadata": {},
   "source": [
    "## Let's define more complete functions to analyze the link"
   ]
  },
  {
   "cell_type": "code",
   "execution_count": 109,
   "metadata": {
    "collapsed": true
   },
   "outputs": [],
   "source": [
    "def analysisI(freq,\n",
    "              trans_diam,\n",
    "              PT,\n",
    "              rcv_diam,\n",
    "              bandw,\n",
    "              the_range,\n",
    "              nois_temp,\n",
    "              loss_atmos,\n",
    "              loss_rain,\n",
    "              loss_misc,\n",
    "              epsilon = 0.55\n",
    "             ):\n",
    "    \"\"\"Here ONLY the losses are in dB.\n",
    "    Note also that all distance measures must be in meters\"\"\"\n",
    "    \n",
    "    # First convert all we need to dB\n",
    "    nois_temp_dB = to_dB(nois_temp) #dBK\n",
    "    bandw_dB = to_dB(bandw) #dBHz\n",
    "    PT_dB = to_dB(PT) #dBW\n",
    "    \n",
    "    wavelen = get_lambda(freq)\n",
    "    print(\"\\nLambda =\\t\\t\", wavelen, \"\\t\\t\\tm\")\n",
    "    \n",
    "    Lp = get_path_loss(wavelen, the_range) #dB\n",
    "    print(\"\\nPath loss =\\t\\t\", Lp, \"\\tdB\")\n",
    "    \n",
    "    GT = get_gain_parabolic(trans_diam, wavelen, epsilon=epsilon) #dB\n",
    "    print(\"\\nTransmitter gain GT =\\t\", GT, \"\\tdBi\")\n",
    "    \n",
    "    GR = get_gain_parabolic(rcv_diam, wavelen, epsilon=epsilon) #dB\n",
    "    print(\"\\nReceiver gain GR =\\t\", GR, \"\\tdBi\")\n",
    "    \n",
    "    EIRP = get_EIRP(PT_dB, GT)\n",
    "    print(\"\\nEIRP =\\t\\t\\t\", EIRP, \"\\tdBW\")\n",
    "    \n",
    "    C_N = get_C_over_N_alldB(PT_dB, GT, GR, bandw_dB, Lp, T=nois_temp_dB,\n",
    "                             LA=loss_atmos, LR=loss_rain, LM=loss_misc)\n",
    "    \n",
    "    PR = get_received_power(PT_dB, GT, GR, wavelen, the_range)\n",
    "    print(\"\\nPR =\\t\\t\\t\", PR, \"\\tdBW\")\n",
    "    \n",
    "    flux = get_flux_density(PR, wavelen)\n",
    "    print(\"\\nFlux Density =\\t\\t\", flux, \"\\tdBW/m^2\")    \n",
    "    \n",
    "    \n",
    "    G_over_T = get_figure_of_merit(GR, nois_temp_dB)\n",
    "    print(\"\\nFigure of merit GR/T =\\t\", G_over_T, \"\\tdB/K\")\n",
    "    \n",
    "    print(\"\\nC/N =\\t\\t\\t\", C_N, \"\\tdB\")"
   ]
  },
  {
   "cell_type": "code",
   "execution_count": 110,
   "metadata": {
    "collapsed": false
   },
   "outputs": [
    {
     "name": "stdout",
     "output_type": "stream",
     "text": [
      "\n",
      "Lambda =\t\t 0.15 \t\t\tm\n",
      "\n",
      "Path loss =\t\t -190.50357192588757 \tdB\n",
      "\n",
      "Transmitter gain GT =\t 17.804199254431868 \tdBi\n",
      "\n",
      "Receiver gain GR =\t 23.824799167711493 \tdBi\n",
      "\n",
      "EIRP =\t\t\t 47.804199254431865 \tdBW\n",
      "\n",
      "PR =\t\t\t -118.87457350374422 \tdBW\n",
      "\n",
      "Flux Density =\t\t -91.40430004463687 \tdBW/m^2\n",
      "\n",
      "Figure of merit GR/T =\t -3.1649008756486943 \tdB/K\n",
      "\n",
      "C/N =\t\t\t 10.736935588883227 \tdB\n"
     ]
    }
   ],
   "source": [
    "freq = 2.*pow(10,9)\n",
    "trans_diam = 0.5\n",
    "PT = 1000 # W\n",
    "\n",
    "rcv_diam = 1.0 # m\n",
    "rcv_nois_temp = 500 # K\n",
    "\n",
    "bandwidth = pow(10,6)\n",
    "rrange = 40000*1000 # m\n",
    "\n",
    "LA = 3. # dB\n",
    "LR = 3. # dB\n",
    "LM = 6. # dB\n",
    "\n",
    "analysisI(freq, trans_diam, PT, rcv_diam, bandwidth, rrange, rcv_nois_temp, LA, LM, LR)"
   ]
  },
  {
   "cell_type": "code",
   "execution_count": null,
   "metadata": {
    "collapsed": true
   },
   "outputs": [],
   "source": []
  }
 ],
 "metadata": {
  "anaconda-cloud": {},
  "kernelspec": {
   "display_name": "Python [Anaconda3]",
   "language": "python",
   "name": "Python [Anaconda3]"
  },
  "language_info": {
   "codemirror_mode": {
    "name": "ipython",
    "version": 3
   },
   "file_extension": ".py",
   "mimetype": "text/x-python",
   "name": "python",
   "nbconvert_exporter": "python",
   "pygments_lexer": "ipython3",
   "version": "3.5.6"
  }
 },
 "nbformat": 4,
 "nbformat_minor": 0
}
