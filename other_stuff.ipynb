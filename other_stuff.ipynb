{
 "cells": [
  {
   "cell_type": "code",
   "execution_count": 1,
   "metadata": {
    "collapsed": true
   },
   "outputs": [],
   "source": [
    "import numpy as np\n",
    "import math"
   ]
  },
  {
   "cell_type": "markdown",
   "metadata": {},
   "source": [
    "### Here you will find the Newton method to find the 'D' component for coding"
   ]
  },
  {
   "cell_type": "code",
   "execution_count": 13,
   "metadata": {
    "collapsed": false
   },
   "outputs": [],
   "source": [
    "def dx(f, x):\n",
    "    return abs(0-f(x))\n",
    " \n",
    "def newtons_method(f, df, guess, e):\n",
    "    delta = dx(f, guess)\n",
    "    while delta > e:\n",
    "        guess = guess - f(guess)/df(guess)\n",
    "        delta = dx(f, guess)\n",
    "    print ('D = ', guess)"
   ]
  },
  {
   "cell_type": "code",
   "execution_count": 16,
   "metadata": {
    "collapsed": true
   },
   "outputs": [],
   "source": [
    "Pb = 1e-8\n",
    "def compute_D():\n",
    "    \n",
    "    '''Here we use the 3 terms approximations.\n",
    "    Il faut faire attention : Le 1 term approximation n'est valable SEULEMENT SI la proba d'erreur est basse.\n",
    "    Donc pour Pb ~ 10^-5 il faut commencer à prendre au moins 2 termes.\n",
    "\n",
    "    Ici avec 3 termes on est laaarge.'''\n",
    "    \n",
    "    \n",
    "    def f(D):\n",
    "        global Pb\n",
    "        return 0.5*(36*D**10 + 211*D**12 + 1404*D**14) - Pb\n",
    " \n",
    "    def df(D):\n",
    "        return 0.5*(360*D**9 + 12*211*D**11 + 14*1404*D**13)\n",
    "    \n",
    "    def dx(f, x):\n",
    "        return abs(0-f(x))\n",
    "\n",
    "    def newtons_method(f, df, guess, e):\n",
    "        delta = dx(f, guess)\n",
    "        while delta > e:\n",
    "            guess = guess - f(guess)/df(guess)\n",
    "            delta = dx(f, guess)\n",
    "        print ('D = ', guess)\n",
    "        \n",
    "    \n",
    "    basic_guess = 0.2\n",
    "    eps = 1e-15;\n",
    "    \n",
    "    return newtons_method(f, df, basic_guess, eps)\n",
    "    "
   ]
  },
  {
   "cell_type": "code",
   "execution_count": 17,
   "metadata": {
    "collapsed": false
   },
   "outputs": [
    {
     "name": "stdout",
     "output_type": "stream",
     "text": [
      "D =  0.11770166447765293\n"
     ]
    }
   ],
   "source": [
    "compute_D()"
   ]
  },
  {
   "cell_type": "code",
   "execution_count": null,
   "metadata": {
    "collapsed": true
   },
   "outputs": [],
   "source": []
  }
 ],
 "metadata": {
  "kernelspec": {
   "display_name": "Python [Anaconda3]",
   "language": "python",
   "name": "Python [Anaconda3]"
  },
  "language_info": {
   "codemirror_mode": {
    "name": "ipython",
    "version": 3
   },
   "file_extension": ".py",
   "mimetype": "text/x-python",
   "name": "python",
   "nbconvert_exporter": "python",
   "pygments_lexer": "ipython3",
   "version": "3.5.6"
  }
 },
 "nbformat": 4,
 "nbformat_minor": 0
}
