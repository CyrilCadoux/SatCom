{
 "cells": [
  {
   "cell_type": "code",
   "execution_count": 8,
   "metadata": {},
   "outputs": [],
   "source": [
    "import numpy as np\n",
    "import math"
   ]
  },
  {
   "cell_type": "markdown",
   "metadata": {},
   "source": [
    "# Here you will find the Newton method to find the 'D' component for coding"
   ]
  },
  {
   "cell_type": "code",
   "execution_count": 9,
   "metadata": {},
   "outputs": [],
   "source": [
    "def dx(f, x):\n",
    "    return abs(0-f(x))\n",
    " \n",
    "def newtons_method(f, df, guess, e):\n",
    "    delta = dx(f, guess)\n",
    "    while delta > e:\n",
    "        guess = guess - f(guess)/df(guess)\n",
    "        delta = dx(f, guess)\n",
    "    print ('D = ', guess)"
   ]
  },
  {
   "cell_type": "markdown",
   "metadata": {},
   "source": [
    "## CHANGE THE VALUE OF Pb IN THE CELL BELOW :"
   ]
  },
  {
   "cell_type": "code",
   "execution_count": 16,
   "metadata": {},
   "outputs": [],
   "source": [
    "Pb = 1e-8"
   ]
  },
  {
   "cell_type": "code",
   "execution_count": 17,
   "metadata": {},
   "outputs": [],
   "source": [
    "def compute_D():\n",
    "    \n",
    "    '''Here we use the 3 terms approximations.\n",
    "    Il faut faire attention : Le 1 term approximation n'est valable SEULEMENT SI la proba d'erreur est basse.\n",
    "    Donc pour Pb ~ 10^-5 il faut commencer à prendre au moins 2 termes.\n",
    "\n",
    "    Ici avec 3 termes on est laaarge.'''\n",
    "    \n",
    "    \n",
    "    def f(D):\n",
    "        global Pb\n",
    "        return 0.5*(36*D**10 + 211*D**12 + 1404*D**14) - Pb\n",
    " \n",
    "    def df(D):\n",
    "        return 0.5*(360*D**9 + 12*211*D**11 + 14*1404*D**13)\n",
    "    \n",
    "    def dx(f, x):\n",
    "        return abs(0-f(x))\n",
    "\n",
    "    def newtons_method(f, df, guess, e):\n",
    "        delta = dx(f, guess)\n",
    "        while delta > e:\n",
    "            guess = guess - f(guess)/df(guess)\n",
    "            delta = dx(f, guess)\n",
    "        print ('D = ', guess)\n",
    "        \n",
    "    \n",
    "    basic_guess = 0.2\n",
    "    eps = 1e-15;\n",
    "    \n",
    "    return newtons_method(f, df, basic_guess, eps)\n",
    "    "
   ]
  },
  {
   "cell_type": "code",
   "execution_count": 18,
   "metadata": {},
   "outputs": [
    {
     "name": "stdout",
     "output_type": "stream",
     "text": [
      "D =  0.11770166447765293\n"
     ]
    }
   ],
   "source": [
    "compute_D()"
   ]
  },
  {
   "cell_type": "markdown",
   "metadata": {
    "collapsed": true
   },
   "source": [
    "---------\n",
    "# In the cells below you will find all the code to compute Fractional Throughput\n"
   ]
  },
  {
   "cell_type": "markdown",
   "metadata": {},
   "source": [
    "## First, let's copy paste useful code from link_analysis.ipynb"
   ]
  },
  {
   "cell_type": "code",
   "execution_count": 13,
   "metadata": {},
   "outputs": [],
   "source": [
    "EARTH_RADIUS = 6378*1000 # m\n",
    "GEO_RADIUS = 42174*1000 # m, distance between geostationary satellite and center of the EARTH\n",
    "GEO_ALTITUDE = GEO_RADIUS - EARTH_RADIUS\n",
    "\n",
    "LEO_ALTITUDE = 1000*1000 # m\n",
    "LEO_RADIUS = LEO_ALTITUDE + EARTH_RADIUS\n",
    "\n",
    "'''Let's define utility functions'''\n",
    "\n",
    "def to_deg(rad):\n",
    "    return rad*180/math.pi\n",
    "\n",
    "def to_rad(deg):\n",
    "    return deg*math.pi/180\n",
    "\n",
    "def to_dB(decimal):\n",
    "    return 10*math.log10(decimal)\n",
    "\n",
    "def to_decimal(dB):\n",
    "    return 10**(dB/10)\n",
    "\n",
    "def cos_deg(deg):\n",
    "    return math.cos(to_rad(deg))\n",
    "\n",
    "def sin_deg(deg):\n",
    "    return math.sin(to_rad(deg))\n",
    "\n",
    "def get_alpha_beta(elevation_angle, GEO=True):\n",
    "    \"\"\"\n",
    "    Compute the angle between the (satellite-earth center) line and the (satellite-earth surface) line.\n",
    "    The latter has an elevation_angle given with respect to the earth tangent.\n",
    "    All angles abre computed in degrees\n",
    "    \"\"\"\n",
    "    \n",
    "    radius = GEO_RADIUS if GEO else LEO_RADIUS\n",
    "    \n",
    "    alpha = to_deg(math.asin(EARTH_RADIUS * sin_deg(90. + elevation_angle) / radius))\n",
    "    beta = 180. - alpha - 90. - elevation_angle\n",
    "    \n",
    "    return alpha, beta\n",
    "\n",
    "def get_range(elevation_angle, GEO=True):\n",
    "    '''\n",
    "    Computes the range [meters] of a satellite with a given elevation angle.\n",
    "    It is possible to define a sat_altitude in case the satellite is not geostationary'''\n",
    "    \n",
    "    alti = GEO_ALTITUDE if GEO else LEO_ALTITUDE\n",
    "    \n",
    "    alpha, beta = get_alpha_beta(elevation_angle, GEO=GEO)\n",
    "    return math.sqrt( (alti+EARTH_RADIUS)**2 + EARTH_RADIUS**2 - 2*EARTH_RADIUS*(EARTH_RADIUS+alti) * cos_deg(180-(90+elevation_angle)-alpha)) "
   ]
  },
  {
   "cell_type": "markdown",
   "metadata": {},
   "source": [
    "## Be careful ! As explained in the function description below, all the values need to be provided in *bits*. \n",
    "\n",
    "## You need to do all the convertions before.\n",
    "### byte = 8 bits\n",
    "### kbit = 1024 bits\n",
    "### Mbit = 1024.1024 bits"
   ]
  },
  {
   "cell_type": "code",
   "execution_count": 14,
   "metadata": {},
   "outputs": [],
   "source": [
    "def frac_throughput(over_head, BER, W_size_bits, C, MTU_size_bits, process_delay, elevation_angle, GEO=True):\n",
    "    \"\"\"\n",
    "    This function computes the fractional throughput of the link.\n",
    "    A special attention must be given to the units of the arguments.\n",
    "    \n",
    "    - over_head : number between 0 and 1 representing the percentage of overhead (20 % overhead => over_head=0.2)\n",
    "    - BER : bit error rate\n",
    "    - W_size_bits : the TCP window size in BITS (**NOT** in terms of MTU)\n",
    "    - MTU_size_bits : the size of the MTU in BITS\n",
    "    - C : the controlled flow rate in ** BITS/SECOND **\n",
    "    - process_delay : duration in seconds that represents the TOTAL PROCESSING delay I_process. It will be added to \n",
    "                       I_UpDown (itself computed inside the function using the range of the satellite) to produce the \n",
    "                       full delay.\n",
    "    - elevation_angle : elevation angle of the orbit of the satellite.\n",
    "    - GEO : a boolean which is 'True' when considering a GEO orbit and 'False' when considering a LEO orbit.\"\"\"\n",
    "    \n",
    "    _1_minus_OH = 1-over_head\n",
    "    _1_minus_L = (1-BER)**W_size_bits\n",
    "    \n",
    "    max_range = get_range(elevation_angle, GEO=GEO) # meters\n",
    "    \n",
    "    W_size_MTU = W_size_bits / MTU_size_bits\n",
    "    print(\"W = %d [MTU]\" % W_size_MTU)\n",
    "    \n",
    "    I_tot = (2.*max_range/3e8) + process_delay\n",
    "    print(\"Total delay = %.4f seconds\" % I_tot)\n",
    "    \n",
    "    band_delay_prod = 2*C*I_tot / MTU_size_bits\n",
    "    print(\"Bandwidth delay product = %.2f\" % band_delay_prod)\n",
    "    \n",
    "    result = _1_minus_OH * _1_minus_L * W_size_MTU / (1+band_delay_prod)\n",
    "    print(\"Fractional throughput = %.2f %%\" % (result*100))\n",
    "    "
   ]
  },
  {
   "cell_type": "code",
   "execution_count": 15,
   "metadata": {},
   "outputs": [
    {
     "name": "stdout",
     "output_type": "stream",
     "text": [
      "W = 64 [MTU]\n",
      "Total delay = 0.2779 seconds\n",
      "Bandwidth delay product = 106.72\n",
      "Fractional throughput = 47.53 %\n"
     ]
    }
   ],
   "source": [
    "frac_throughput(over_head=0.2, BER=0, W_size_bits=8*65536, MTU_size_bits=8*1024, C=1.5*1024*1024, process_delay=0., elevation_angle=0.)"
   ]
  },
  {
   "cell_type": "markdown",
   "metadata": {},
   "source": [
    "---------\n",
    "# In the cells below you will find all the code to compute Rayleigh's availability\n"
   ]
  },
  {
   "cell_type": "code",
   "execution_count": 23,
   "metadata": {},
   "outputs": [],
   "source": [
    "def compute_availability(positive_dB_loss_to_be_handled):\n",
    "    result = np.exp(-to_decimal(-positive_dB_loss_to_be_handled))\n",
    "    \n",
    "    print(\"If the Rayleigh channel can handle at least a 6 dB loss,\\nthen the availability is %.3f\" % result)"
   ]
  },
  {
   "cell_type": "code",
   "execution_count": 24,
   "metadata": {},
   "outputs": [
    {
     "name": "stdout",
     "output_type": "stream",
     "text": [
      "If the Rayleigh channel can handle at least a 6 dB loss,\n",
      "then the availability is 0.778\n"
     ]
    }
   ],
   "source": [
    "compute_availability(6)"
   ]
  },
  {
   "cell_type": "code",
   "execution_count": null,
   "metadata": {},
   "outputs": [],
   "source": []
  }
 ],
 "metadata": {
  "kernelspec": {
   "display_name": "Python 3",
   "language": "python",
   "name": "python3"
  },
  "language_info": {
   "codemirror_mode": {
    "name": "ipython",
    "version": 3
   },
   "file_extension": ".py",
   "mimetype": "text/x-python",
   "name": "python",
   "nbconvert_exporter": "python",
   "pygments_lexer": "ipython3",
   "version": "3.7.1"
  }
 },
 "nbformat": 4,
 "nbformat_minor": 1
}
