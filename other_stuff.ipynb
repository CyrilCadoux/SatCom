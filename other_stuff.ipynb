{
 "cells": [
  {
   "cell_type": "code",
   "execution_count": 83,
   "metadata": {},
   "outputs": [],
   "source": [
    "import numpy as np\n",
    "import math"
   ]
  },
  {
   "cell_type": "markdown",
   "metadata": {},
   "source": [
    "# Here you will find the Newton method to find the 'D' component for coding"
   ]
  },
  {
   "cell_type": "markdown",
   "metadata": {},
   "source": [
    "## CHANGE THE VALUE OF Pb IN THE CELL BELOW :"
   ]
  },
  {
   "cell_type": "code",
   "execution_count": 84,
   "metadata": {},
   "outputs": [],
   "source": [
    "Pb = 1e-6"
   ]
  },
  {
   "cell_type": "code",
   "execution_count": 85,
   "metadata": {},
   "outputs": [],
   "source": [
    "def compute_D():\n",
    "    \n",
    "    '''Here we use the 3 terms approximations.\n",
    "    Il faut faire attention : Le 1 term approximation n'est valable SEULEMENT SI la proba d'erreur est basse.\n",
    "    Donc pour Pb ~ 10^-5 il faut commencer à prendre au moins 2 termes.\n",
    "\n",
    "    Ici avec 3 termes on est laaarge.'''\n",
    "    \n",
    "    \n",
    "    def f(D):\n",
    "        global Pb\n",
    "        return 0.5*(36*D**10 + 211*D**12 + 1404*D**14) - Pb\n",
    " \n",
    "    def df(D):\n",
    "        return 0.5*(360*D**9 + 12*211*D**11 + 14*1404*D**13)\n",
    "    \n",
    "    def dx(f, x):\n",
    "        return abs(0-f(x))\n",
    "\n",
    "    def newtons_method(f, df, guess, e):\n",
    "        delta = dx(f, guess)\n",
    "        while delta > e:\n",
    "            guess = guess - f(guess)/df(guess)\n",
    "            delta = dx(f, guess)\n",
    "        print ('D = ', guess)\n",
    "        \n",
    "    \n",
    "    basic_guess = 0.2\n",
    "    eps = 1e-15;\n",
    "    \n",
    "    return newtons_method(f, df, basic_guess, eps)\n",
    "    "
   ]
  },
  {
   "cell_type": "code",
   "execution_count": 86,
   "metadata": {},
   "outputs": [
    {
     "name": "stdout",
     "output_type": "stream",
     "text": [
      "D =  0.1840822315060514\n"
     ]
    }
   ],
   "source": [
    "compute_D()"
   ]
  },
  {
   "cell_type": "markdown",
   "metadata": {
    "collapsed": true
   },
   "source": [
    "---------\n",
    "# In the cells below you will find all the code to compute Fractional Throughput\n"
   ]
  },
  {
   "cell_type": "markdown",
   "metadata": {},
   "source": [
    "## First, let's copy paste useful code from link_analysis.ipynb"
   ]
  },
  {
   "cell_type": "code",
   "execution_count": 87,
   "metadata": {},
   "outputs": [],
   "source": [
    "EARTH_RADIUS = 6378*1000 # m\n",
    "GEO_RADIUS = 42174*1000 # m, distance between geostationary satellite and center of the EARTH\n",
    "GEO_ALTITUDE = GEO_RADIUS - EARTH_RADIUS\n",
    "\n",
    "LEO_ALTITUDE = 1000*1000 # m\n",
    "LEO_RADIUS = LEO_ALTITUDE + EARTH_RADIUS\n",
    "\n",
    "'''Let's define utility functions'''\n",
    "\n",
    "def to_deg(rad):\n",
    "    return rad*180/math.pi\n",
    "\n",
    "def to_rad(deg):\n",
    "    return deg*math.pi/180\n",
    "\n",
    "def to_dB(decimal):\n",
    "    return 10*math.log10(decimal)\n",
    "\n",
    "def to_decimal(dB):\n",
    "    return 10**(dB/10)\n",
    "\n",
    "def cos_deg(deg):\n",
    "    return math.cos(to_rad(deg))\n",
    "\n",
    "def sin_deg(deg):\n",
    "    return math.sin(to_rad(deg))\n",
    "\n",
    "def get_alpha_beta(elevation_angle, GEO=True):\n",
    "    \"\"\"\n",
    "    Compute the angle between the (satellite-earth center) line and the (satellite-earth surface) line.\n",
    "    The latter has an elevation_angle given with respect to the earth tangent.\n",
    "    All angles abre computed in degrees\n",
    "    \"\"\"\n",
    "    \n",
    "    radius = GEO_RADIUS if GEO else LEO_RADIUS\n",
    "    \n",
    "    alpha = to_deg(math.asin(EARTH_RADIUS * sin_deg(90. + elevation_angle) / radius))\n",
    "    beta = 180. - alpha - 90. - elevation_angle\n",
    "    \n",
    "    return alpha, beta\n",
    "\n",
    "def get_range(elevation_angle, GEO=True):\n",
    "    '''\n",
    "    Computes the range [meters] of a satellite with a given elevation angle.\n",
    "    It is possible to define a sat_altitude in case the satellite is not geostationary'''\n",
    "    \n",
    "    alti = GEO_ALTITUDE if GEO else LEO_ALTITUDE\n",
    "    \n",
    "    alpha, beta = get_alpha_beta(elevation_angle, GEO=GEO)\n",
    "    return math.sqrt( (alti+EARTH_RADIUS)**2 + EARTH_RADIUS**2 - 2*EARTH_RADIUS*(EARTH_RADIUS+alti) * cos_deg(180-(90+elevation_angle)-alpha)) "
   ]
  },
  {
   "cell_type": "markdown",
   "metadata": {},
   "source": [
    "## Be careful ! As explained in the function description below, all the values need to be provided in *bits*. \n",
    "\n",
    "## You need to do all the convertions before.\n",
    "### byte = 8 bits\n",
    "### kbit = 1024 bits\n",
    "### Mbit = 1024.1024 bits"
   ]
  },
  {
   "cell_type": "code",
   "execution_count": 88,
   "metadata": {},
   "outputs": [],
   "source": [
    "def frac_throughput(over_head, BER, W_size_bits, C, MTU_size_bits, process_delay, elevation_angle, GEO=True, rate=None, mod='QPSK'):\n",
    "    \"\"\"\n",
    "    This function computes the fractional throughput of the link.\n",
    "    A special attention must be given to the units of the arguments.\n",
    "    \n",
    "    - over_head : number between 0 and 1 representing the percentage of overhead (20 % overhead => over_head=0.2)\n",
    "    - BER : bit error rate\n",
    "    - W_size_bits : the TCP window size in BITS (**NOT** in terms of MTU)\n",
    "    - MTU_size_bits : the size of the MTU in BITS\n",
    "    - C : the controlled flow rate in ** BITS/SECOND **\n",
    "    - process_delay : duration in seconds that represents the TOTAL PROCESSING delay I_process. It will be added to \n",
    "                       I_UpDown (itself computed inside the function using the range of the satellite) to produce the \n",
    "                       full delay.\n",
    "    - elevation_angle : elevation angle of the orbit of the satellite.\n",
    "    - GEO : a boolean which is 'True' when considering a GEO orbit and 'False' when considering a LEO orbit.\n",
    "    - rate : the carrier bitrate in **BITS/SECOND**, used to deduce the final throughput.\"\"\"\n",
    "    \n",
    "    \n",
    "    _1_minus_OH = 1-over_head\n",
    "    _1_minus_L = (1-BER)**W_size_bits if BER != 0 else 1# Proba no error\n",
    "    \n",
    "    max_range = get_range(elevation_angle, GEO=GEO) # meters\n",
    "\n",
    "    W_size_MTU = W_size_bits / MTU_size_bits\n",
    "    print(\"W = %d [MTU]\" % W_size_MTU)\n",
    "    \n",
    "    I_tot = (2.*max_range/3e8) + process_delay\n",
    "    print(\"Total delay = %.4f seconds\" % I_tot)\n",
    "    \n",
    "    band_delay_prod = 2*C*I_tot / MTU_size_bits\n",
    "    print(\"Bandwidth delay product = %.2f\" % band_delay_prod)\n",
    "    \n",
    "    print()\n",
    "    print(\"(1-OH) =\", _1_minus_OH)\n",
    "    print(\"(1-L) =\", _1_minus_L)\n",
    "    print(\"range = %.3f km\" % (max_range/1000))\n",
    "    print(\"Total delay = %.2f ms\" % (I_tot*1000))\n",
    "    print()\n",
    "    \n",
    "    frac_throu = _1_minus_OH * _1_minus_L * W_size_MTU / (1+band_delay_prod)\n",
    "    print(\"Fractional throughput = %.3f %%\" % (frac_throu*100))\n",
    "    \n",
    "    if rate is not None:\n",
    "        tot_throu = rate*frac_throu\n",
    "        print(\"Total throughput = %.3f Kbps\" % (tot_throu/pow(10,3)))\n",
    "        \n",
    "        factor = 2 # QPSK by default\n",
    "        \n",
    "        \n",
    "        if mod == 'BPSK' or mod == 'BFSK' :\n",
    "            factor = 1\n",
    "        elif mod == 'QFSK' or mod == 'QPSK' or mod == '4PSK' or mod == '4FSK':\n",
    "            factor = 2\n",
    "        elif mod == '8PSK' or mod == '8FSK':\n",
    "            factor = 3\n",
    "        elif mod == '16PSK' or mod == '16FSK':\n",
    "            factor = 4\n",
    "        else:\n",
    "            raise ValueError(\"Modulation scheme not recognized\")\n",
    "        \n",
    "        print(\"Bandwidth Efficiency = %.3f bits/Hz (using %s)\" % (tot_throu/(2*rate/factor), mod))\n",
    "    "
   ]
  },
  {
   "cell_type": "code",
   "execution_count": 89,
   "metadata": {},
   "outputs": [
    {
     "name": "stdout",
     "output_type": "stream",
     "text": [
      "W = 51 [MTU]\n",
      "Total delay = 0.3175 seconds\n",
      "Bandwidth delay product = 116.26\n",
      "\n",
      "(1-OH) = 0.75\n",
      "(1-L) = 1\n",
      "range = 38621.730 km\n",
      "Total delay = 317.48 ms\n",
      "\n",
      "Fractional throughput = 32.619 %\n",
      "Total throughput = 668.031 Kbps\n",
      "Bandwidth Efficiency = 0.326 bits/Hz (using QPSK)\n"
     ]
    }
   ],
   "source": [
    "frac_throughput(over_head=0.25,\n",
    "                BER=0,\n",
    "                W_size_bits=51*1024*8,\n",
    "                MTU_size_bits=1024*8,\n",
    "                C=1.5*pow(10,6),\n",
    "                process_delay=0.03*2,\n",
    "                elevation_angle=30.,\n",
    "                GEO=True,\n",
    "                rate = 2.048*pow(10,6), # Not necessary, just needed for total troughput computation\n",
    "                mod='QPSK',\n",
    "               )"
   ]
  },
  {
   "cell_type": "markdown",
   "metadata": {},
   "source": [
    "---------\n",
    "# In the cells below you will find all the code to compute Rayleigh's availability\n"
   ]
  },
  {
   "cell_type": "code",
   "execution_count": 90,
   "metadata": {},
   "outputs": [],
   "source": [
    "def compute_availability(positive_dB_loss_to_be_handled):\n",
    "    result = np.exp(-to_decimal(-positive_dB_loss_to_be_handled))\n",
    "    \n",
    "    print(\"The Rayleigh channel can handle at least a %d dB loss.\\nThe availability is thus %.3f %%\" % (positive_dB_loss_to_be_handled, result))"
   ]
  },
  {
   "cell_type": "code",
   "execution_count": 91,
   "metadata": {},
   "outputs": [
    {
     "name": "stdout",
     "output_type": "stream",
     "text": [
      "The Rayleigh channel can handle at least a 6 dB loss.\n",
      "The availability is thus 0.778 %\n"
     ]
    }
   ],
   "source": [
    "compute_availability(6)"
   ]
  },
  {
   "cell_type": "code",
   "execution_count": 92,
   "metadata": {},
   "outputs": [],
   "source": [
    "def compute_req_margin(availability):\n",
    "    \n",
    "    \n",
    "    if availability < 0. or availability > 1.:\n",
    "        raise ValueError(\"The value of the 'availability' parameter must be a double between 0 and 1 (availability is a percentage).\")\n",
    "    \n",
    "    result = -to_dB(-np.log(availability))\n",
    "    \n",
    "    print(\"We want to have an availability of %.1f %%.\\nThus we need a margin of %.2f dB\" % (availability*100, result))"
   ]
  },
  {
   "cell_type": "code",
   "execution_count": 128,
   "metadata": {},
   "outputs": [
    {
     "name": "stdout",
     "output_type": "stream",
     "text": [
      "We want to have an availability of 95.0 %.\n",
      "Thus we need a margin of 12.90 dB\n"
     ]
    }
   ],
   "source": [
    "compute_req_margin(0.95)"
   ]
  },
  {
   "cell_type": "markdown",
   "metadata": {},
   "source": [
    "---------\n",
    "# In the cells below you will find all the code to compute the fade duration\n"
   ]
  },
  {
   "cell_type": "code",
   "execution_count": 94,
   "metadata": {},
   "outputs": [],
   "source": [
    "def compute_fade_duration(fade_depth_dB, fd):\n",
    "    rho = to_decimal(-fade_depth_dB)\n",
    "    \n",
    "    result = (np.exp(rho*rho)-1) / (rho*fd*np.sqrt(2*np.pi))\n",
    "    \n",
    "    print(\"The fade duration is %.f microseconds\" % (result*pow(10,6)))\n",
    "    \n",
    "    "
   ]
  },
  {
   "cell_type": "code",
   "execution_count": 95,
   "metadata": {},
   "outputs": [
    {
     "name": "stdout",
     "output_type": "stream",
     "text": [
      "The fade duration is 40 microseconds\n"
     ]
    }
   ],
   "source": [
    "compute_fade_duration(10., 1000.)"
   ]
  },
  {
   "cell_type": "markdown",
   "metadata": {},
   "source": [
    "---------\n",
    "# In the cells below you will find all the code to compute the delay spread and thus the coherence bandwidth"
   ]
  },
  {
   "cell_type": "code",
   "execution_count": 124,
   "metadata": {},
   "outputs": [],
   "source": [
    "def coherence_bandwidth(probas, delays, time_unit='us'):\n",
    "    \n",
    "    '''delays[k] is associated with probas[k]'''\n",
    "    \n",
    "    if len(probas) != len(delays):\n",
    "        raise ValueError(\"There is a different number of probas and delays !\")\n",
    "        \n",
    "    factor = 3\n",
    "    if time_unit == 's':\n",
    "        factor = -3\n",
    "    elif time_unit == 'ms':\n",
    "        factor = 1\n",
    "    elif time_unit != 'us' :\n",
    "        raise ValueError(\"Time unit can only be s, ms or us\")\n",
    "        \n",
    "    Ex = sum([probas[k]*delays[k] for k in range(len(probas))]) / sum(probas)\n",
    "    Ex2 = sum([probas[k]*delays[k]*delays[k] for k in range(len(probas))]) / sum(probas)\n",
    "\n",
    "    rms_delay = np.sqrt(Ex2 - Ex*Ex)\n",
    "    \n",
    "    print(\"The average delay is %.3f %s\" % (Ex, time_unit))\n",
    "    print(\"The second moment of delay is %.3f %s^2\" % (Ex2, time_unit))\n",
    "    print(\"The rms of the delays (ie the variance) is %.3f %s\" % (rms_delay, time_unit))\n",
    "    \n",
    "    print(\"The coherence bandwidth is thus f0 = %f kHz\" % (pow(10, factor)/rms_delay))"
   ]
  },
  {
   "cell_type": "code",
   "execution_count": 129,
   "metadata": {},
   "outputs": [
    {
     "name": "stdout",
     "output_type": "stream",
     "text": [
      "The average delay is 0.308 us\n",
      "The second moment of delay is 0.462 us^2\n",
      "The rms of the delays (ie the variance) is 0.606 us\n",
      "The coherence bandwidth is thus f0 = 1651.001651 kHz\n"
     ]
    }
   ],
   "source": [
    "probas = [1, 0.2, 0.1]\n",
    "delays = [0, 1, 2] # microseconds in this example\n",
    "\n",
    "coherence_bandwidth(probas, delays, time_unit='us')"
   ]
  },
  {
   "cell_type": "code",
   "execution_count": null,
   "metadata": {},
   "outputs": [],
   "source": []
  }
 ],
 "metadata": {
  "kernelspec": {
   "display_name": "Python 3",
   "language": "python",
   "name": "python3"
  },
  "language_info": {
   "codemirror_mode": {
    "name": "ipython",
    "version": 3
   },
   "file_extension": ".py",
   "mimetype": "text/x-python",
   "name": "python",
   "nbconvert_exporter": "python",
   "pygments_lexer": "ipython3",
   "version": "3.7.1"
  }
 },
 "nbformat": 4,
 "nbformat_minor": 1
}
